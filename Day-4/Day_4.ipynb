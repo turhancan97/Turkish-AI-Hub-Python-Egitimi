{
  "nbformat": 4,
  "nbformat_minor": 0,
  "metadata": {
    "colab": {
      "name": "Day_4.ipynb",
      "provenance": [],
      "collapsed_sections": []
    },
    "kernelspec": {
      "name": "python3",
      "display_name": "Python 3"
    }
  },
  "cells": [
    {
      "cell_type": "markdown",
      "metadata": {
        "id": "HHgvBhnB5_uo",
        "colab_type": "text"
      },
      "source": [
        "##Soru\n",
        "\n",
        "Kullanıcıdan bir tamsayı değeri (stop_number) giren ve 0'dan stop_number'a kadar tüm sayıların toplamını yazdıran bir program yazın. Kullanıcının geçerli bir değer gireceğini varsayabilirsiniz."
      ]
    },
    {
      "cell_type": "code",
      "metadata": {
        "id": "N32FAirH5-J2",
        "colab_type": "code",
        "colab": {
          "base_uri": "https://localhost:8080/",
          "height": 52
        },
        "outputId": "e366d426-3706-4fca-c30b-eb8db79a46e0"
      },
      "source": [
        "stop_number = int(input(\"Bir bitiş sayısı giriniz: \"))\n",
        "\n",
        "sonuc = 0\n",
        "for i in range(1, stop_number):\n",
        "  sonuc += i\n",
        "  \n",
        "print(sonuc)"
      ],
      "execution_count": null,
      "outputs": [
        {
          "output_type": "stream",
          "text": [
            "Bir bitiş sayısı giriniz: 10\n",
            "45\n"
          ],
          "name": "stdout"
        }
      ]
    },
    {
      "cell_type": "markdown",
      "metadata": {
        "id": "G63Y7XEL6KmJ",
        "colab_type": "text"
      },
      "source": [
        "##Soru\n",
        "\n",
        "Programınızı, toplanacak sayıların başlangıç değerini de (start_number) girecek şekilde genişletin. Bu durumda, programınız start_number dan stop_number a kadar tüm sayıları toplayacaktır. Kullanıcının iki geçerli değer gireceğini varsayabilirsiniz."
      ]
    },
    {
      "cell_type": "code",
      "metadata": {
        "id": "10xHuwEH6LeW",
        "colab_type": "code",
        "colab": {
          "base_uri": "https://localhost:8080/",
          "height": 70
        },
        "outputId": "4112677e-0daf-41bc-80e8-a059c553f56d"
      },
      "source": [
        "start_number = int(input(\"Bir başlangıç sayısı giriniz:\"))\n",
        "stop_number = int(input(\"Bir bitiş sayısı giriniz: \"))\n",
        "\n",
        "sonuc = 0\n",
        "for i in range(start_number, stop_number):\n",
        "  sonuc += i\n",
        "  \n",
        "print(sonuc)"
      ],
      "execution_count": null,
      "outputs": [
        {
          "output_type": "stream",
          "text": [
            "Bir başlangıç sayısı giriniz:4\n",
            "Bir bitiş sayısı giriniz: 34\n",
            "555\n"
          ],
          "name": "stdout"
        }
      ]
    },
    {
      "cell_type": "markdown",
      "metadata": {
        "id": "_Bu5hGFw6QOK",
        "colab_type": "text"
      },
      "source": [
        "##Soru\n",
        "\n",
        "Programınızı, start_number ı 0 ile 100 arasında bir tamsayı olup olmadığını kontrol edecek şekilde genişletin. Eğer öyleyse, programınız ikinci girdiyi sormaya ve hesaplamaları yapmaya devam edecektir; aksi takdirde, bir hata yazdırır ve yürütmeyi durdurur."
      ]
    },
    {
      "cell_type": "code",
      "metadata": {
        "id": "VofmbOeA6Tlg",
        "colab_type": "code",
        "colab": {
          "base_uri": "https://localhost:8080/",
          "height": 70
        },
        "outputId": "52bf2bb2-ba37-4c58-8dbb-a32bd3db8aa7"
      },
      "source": [
        "start_number = int(input(\"Bir başlangıç sayısı giriniz:\"))\n",
        "\n",
        "if 0 <= start_number <= 100:\n",
        "  stop_number = int(input(\"Bir bitiş sayısı giriniz: \"))\n",
        "  \n",
        "  if start_number <= stop_number <= 100:\n",
        "  \n",
        "    sonuc = 0\n",
        "    for i in range(start_number, stop_number):\n",
        "      sonuc += i\n",
        "    print(sonuc)\n",
        "  else:\n",
        "    print(\"Geçersiz bitiş sayısı\")\n",
        "\n",
        "  \n",
        "else:\n",
        "  print(\"Geçersiz başlangıç sayısı\")"
      ],
      "execution_count": null,
      "outputs": [
        {
          "output_type": "stream",
          "text": [
            "Bir başlangıç sayısı giriniz:30\n",
            "Bir bitiş sayısı giriniz: 80\n",
            "2725\n"
          ],
          "name": "stdout"
        }
      ]
    },
    {
      "cell_type": "markdown",
      "metadata": {
        "id": "-AC2lMip2B6o",
        "colab_type": "text"
      },
      "source": [
        "##Soru\n",
        "\n",
        "Bilgisayar 1 ile 100 arasında rastgele bir sayı seçsin, biz de onu tahmin edecek programı yazalım."
      ]
    },
    {
      "cell_type": "markdown",
      "metadata": {
        "id": "9NqX9G3F8uZQ",
        "colab_type": "text"
      },
      "source": [
        "###Modüller\n",
        "\n",
        "Bazı işlevleri kolaylıkla yerine getirmemizi sağlayan birtakım fonksiyonları ve nitelikleri içinde barındıran araçlardır. Barındırdığı bu fonksiyonları farklı dosyalar ve programlar içinde tekrar tekrar kullanma imkanı sağlar. Modüller sayesinde Python çok daha kullanışlı ve uygulaması kolay bir dil haline gelmiştir.\n",
        "\n",
        "Python’da herhangi bir modülü kullanabilmek için öncelikle onu ‘içe aktarmamız’ gerekir. İçe aktarmak, bir modül içindeki fonksiyon ve nitelikleri başka bir program içinden kullanılabilir hale getirmek demektir.\n",
        "\n",
        "**import <modül_adı>**"
      ]
    },
    {
      "cell_type": "code",
      "metadata": {
        "id": "MDmE3VeY2BUv",
        "colab_type": "code",
        "colab": {
          "base_uri": "https://localhost:8080/",
          "height": 92
        },
        "outputId": "b1148e5b-f060-441f-bac1-5a73c3f8005b"
      },
      "source": [
        "import random as rnd\n",
        "\n",
        "gizli = rnd.randint(1, 100)\n",
        "\n",
        "check = False\n",
        "\n",
        "tahmin = int(input(\"Bir tahmin giriniz:\"))\n",
        "print(gizli)\n",
        "\n",
        "for x in range(5):\n",
        "  tahmin = int(input(\"Bir tahmin giriniz:\"))\n",
        "  if tahmin == gizli:\n",
        "    print(\"Tebrikler\")\n",
        "    check = True\n",
        "    break\n",
        "  elif tahmin < gizli:\n",
        "    print(\"Daha büyük bir sayı giriniz!!\")\n",
        "  else:\n",
        "    print(\"Daha küçük bir sayı giriniz!!\")\n",
        "    \n",
        "if not check:\n",
        "  print(\"Bilemediniz, belirlenen sayı: \", gizli)"
      ],
      "execution_count": 4,
      "outputs": [
        {
          "output_type": "stream",
          "text": [
            "Bir tahmin giriniz:1\n",
            "9\n",
            "Bir tahmin giriniz:9\n",
            "Tebrikler\n"
          ],
          "name": "stdout"
        }
      ]
    },
    {
      "cell_type": "markdown",
      "metadata": {
        "id": "IdVXxCBHJ07g",
        "colab_type": "text"
      },
      "source": [
        "#Sözlükler (Dictionary)\n",
        "\n",
        "\n",
        "\n",
        "*   Python'daki bir veri tipi.\n",
        "*   Sözlükler,anahtarlar (keys) tarafından indexlenir ve bu anahtarlar String ve sayı tipinde olabilir.\n",
        "*   key:value şeklinde yazılır ve key ler benzersiz (unique) değerlerdir.\n",
        "*   {}\n",
        "\n",
        "\n",
        "\n"
      ]
    },
    {
      "cell_type": "code",
      "metadata": {
        "id": "YHFeM7PaLiqh",
        "colab_type": "code",
        "colab": {
          "base_uri": "https://localhost:8080/",
          "height": 35
        },
        "outputId": "82243a91-f51b-4cf4-a6fb-ebaf956bcc47"
      },
      "source": [
        "d = {}\n",
        "\"isim\"-\"fethi\"\n",
        "\"soyisim\"-\"tekyaygil\"\n",
        "\"yaş\"-24\n",
        "1-\"okunan okul sayısı\"\n",
        "\"isim2\"-\"fethi\"\n",
        "\n",
        "print(d)"
      ],
      "execution_count": null,
      "outputs": [
        {
          "output_type": "stream",
          "text": [
            "{}\n"
          ],
          "name": "stdout"
        }
      ]
    },
    {
      "cell_type": "code",
      "metadata": {
        "id": "n5qcMd-GLsKa",
        "colab_type": "code",
        "colab": {
          "base_uri": "https://localhost:8080/",
          "height": 36
        },
        "outputId": "34d496bf-87e5-49ab-add9-ec2c736a28ab"
      },
      "source": [
        "{\"Key\":\"Value\"}\n",
        "d = {\"python\":1, \"course\":2}\n",
        "print(d)"
      ],
      "execution_count": 6,
      "outputs": [
        {
          "output_type": "stream",
          "text": [
            "{'python': 1, 'course': 2}\n"
          ],
          "name": "stdout"
        }
      ]
    },
    {
      "cell_type": "code",
      "metadata": {
        "id": "clYvXwpqzQ3P",
        "colab_type": "code",
        "colab": {
          "base_uri": "https://localhost:8080/",
          "height": 36
        },
        "outputId": "8d382b5b-860b-4447-e2c0-750636586ea0"
      },
      "source": [
        "print(d[\"python\"])"
      ],
      "execution_count": 7,
      "outputs": [
        {
          "output_type": "stream",
          "text": [
            "1\n"
          ],
          "name": "stdout"
        }
      ]
    },
    {
      "cell_type": "code",
      "metadata": {
        "id": "EX9oMWnHL7fq",
        "colab_type": "code",
        "colab": {
          "base_uri": "https://localhost:8080/",
          "height": 36
        },
        "outputId": "f5a113fe-64fa-4003-b584-649cc5df87f7"
      },
      "source": [
        "d2 = {\"machine\":\"learning\", \"artificial\":\"intelligence\" }\n",
        "\n",
        "d2"
      ],
      "execution_count": 9,
      "outputs": [
        {
          "output_type": "execute_result",
          "data": {
            "text/plain": [
              "{'artificial': 'intelligence', 'machine': 'learning'}"
            ]
          },
          "metadata": {
            "tags": []
          },
          "execution_count": 9
        }
      ]
    },
    {
      "cell_type": "code",
      "metadata": {
        "id": "eckt9hWHMKyB",
        "colab_type": "code",
        "colab": {
          "base_uri": "https://localhost:8080/",
          "height": 36
        },
        "outputId": "2574c92e-966b-4f7a-faf9-b6b782bda0b4"
      },
      "source": [
        "d2[\"artificial\"]"
      ],
      "execution_count": null,
      "outputs": [
        {
          "output_type": "execute_result",
          "data": {
            "application/vnd.google.colaboratory.intrinsic+json": {
              "type": "string"
            },
            "text/plain": [
              "'intelligence'"
            ]
          },
          "metadata": {
            "tags": []
          },
          "execution_count": 118
        }
      ]
    },
    {
      "cell_type": "code",
      "metadata": {
        "id": "EtB2gyEmMWjy",
        "colab_type": "code",
        "colab": {
          "base_uri": "https://localhost:8080/",
          "height": 35
        },
        "outputId": "f16e2223-550d-401d-b669-228d34ce8982"
      },
      "source": [
        "d[\"course\"]"
      ],
      "execution_count": null,
      "outputs": [
        {
          "output_type": "execute_result",
          "data": {
            "text/plain": [
              "2"
            ]
          },
          "metadata": {
            "tags": []
          },
          "execution_count": 119
        }
      ]
    },
    {
      "cell_type": "code",
      "metadata": {
        "id": "wDZX9weez7CS",
        "colab_type": "code",
        "colab": {
          "base_uri": "https://localhost:8080/",
          "height": 36
        },
        "outputId": "7f90eb66-2448-46e1-f398-d5108376d1af"
      },
      "source": [
        "d2"
      ],
      "execution_count": 10,
      "outputs": [
        {
          "output_type": "execute_result",
          "data": {
            "text/plain": [
              "{'artificial': 'intelligence', 'machine': 'learning'}"
            ]
          },
          "metadata": {
            "tags": []
          },
          "execution_count": 10
        }
      ]
    },
    {
      "cell_type": "code",
      "metadata": {
        "id": "t2flZAV2NIIq",
        "colab_type": "code",
        "colab": {
          "base_uri": "https://localhost:8080/",
          "height": 36
        },
        "outputId": "45a1a600-6796-4431-9f54-431791955365"
      },
      "source": [
        "d2[\"deep\"] = \"12\"\n",
        "d2\n",
        "#print(d2)"
      ],
      "execution_count": 12,
      "outputs": [
        {
          "output_type": "execute_result",
          "data": {
            "text/plain": [
              "{'artificial': 'intelligence', 'deep': '12', 'machine': 'learning'}"
            ]
          },
          "metadata": {
            "tags": []
          },
          "execution_count": 12
        }
      ]
    },
    {
      "cell_type": "code",
      "metadata": {
        "id": "ntLDke2enyh6",
        "colab_type": "code",
        "colab": {
          "base_uri": "https://localhost:8080/",
          "height": 36
        },
        "outputId": "c74327f0-ccc8-42aa-fc03-dd33b50891fe"
      },
      "source": [
        "print(d2.keys())"
      ],
      "execution_count": 14,
      "outputs": [
        {
          "output_type": "stream",
          "text": [
            "dict_keys(['machine', 'artificial', 'deep'])\n"
          ],
          "name": "stdout"
        }
      ]
    },
    {
      "cell_type": "code",
      "metadata": {
        "id": "RRCll5K-oEW6",
        "colab_type": "code",
        "colab": {
          "base_uri": "https://localhost:8080/",
          "height": 36
        },
        "outputId": "07cd6f94-a376-4845-da13-d8dd24560f19"
      },
      "source": [
        "sorted(list(d2.values()))"
      ],
      "execution_count": 29,
      "outputs": [
        {
          "output_type": "execute_result",
          "data": {
            "text/plain": [
              "['12', 'intelligence', 'learning']"
            ]
          },
          "metadata": {
            "tags": []
          },
          "execution_count": 29
        }
      ]
    },
    {
      "cell_type": "code",
      "metadata": {
        "id": "YYzF_DyGoHWm",
        "colab_type": "code",
        "colab": {
          "base_uri": "https://localhost:8080/",
          "height": 35
        },
        "outputId": "efa04009-abdf-40e1-d177-cb046ff201b7"
      },
      "source": [
        "d2.items()"
      ],
      "execution_count": null,
      "outputs": [
        {
          "output_type": "execute_result",
          "data": {
            "text/plain": [
              "dict_items([('machine', 'learning'), ('artificial', 'intelligence'), ('deep', 'learning')])"
            ]
          },
          "metadata": {
            "tags": []
          },
          "execution_count": 126
        }
      ]
    },
    {
      "cell_type": "code",
      "metadata": {
        "id": "rcKOifmfoap9",
        "colab_type": "code",
        "colab": {
          "base_uri": "https://localhost:8080/",
          "height": 92
        },
        "outputId": "bd2fa695-aa19-4e01-b4b7-5e8d556cd623"
      },
      "source": [
        "\"\"\"for k in d2.keys():\n",
        "  print(k)\"\"\"\n",
        "\n",
        "[print(i) for i in d2.keys()]\n"
      ],
      "execution_count": 34,
      "outputs": [
        {
          "output_type": "stream",
          "text": [
            "machine\n",
            "artificial\n",
            "deep\n"
          ],
          "name": "stdout"
        },
        {
          "output_type": "execute_result",
          "data": {
            "text/plain": [
              "[None, None, None]"
            ]
          },
          "metadata": {
            "tags": []
          },
          "execution_count": 34
        }
      ]
    },
    {
      "cell_type": "code",
      "metadata": {
        "id": "08NuVylA2E6S",
        "colab_type": "code",
        "colab": {
          "base_uri": "https://localhost:8080/",
          "height": 36
        },
        "outputId": "647bbc17-c3f3-4c8e-9313-0c6bb0a5b524"
      },
      "source": [
        "print(d)"
      ],
      "execution_count": 36,
      "outputs": [
        {
          "output_type": "stream",
          "text": [
            "{'python': 1, 'course': 2}\n"
          ],
          "name": "stdout"
        }
      ]
    },
    {
      "cell_type": "code",
      "metadata": {
        "id": "bhSGEUT5oqc3",
        "colab_type": "code",
        "colab": {
          "base_uri": "https://localhost:8080/",
          "height": 73
        },
        "outputId": "784fd62a-38d2-4936-ff47-af3d8add0da3"
      },
      "source": [
        "for v in d.values():\n",
        "  print(v)\n",
        "\n",
        "\n",
        "[print(i) for i in d.values()]"
      ],
      "execution_count": 37,
      "outputs": [
        {
          "output_type": "stream",
          "text": [
            "1\n",
            "2\n",
            "[None, None]\n"
          ],
          "name": "stdout"
        }
      ]
    },
    {
      "cell_type": "code",
      "metadata": {
        "id": "arPqRh3d2fEc",
        "colab_type": "code",
        "colab": {
          "base_uri": "https://localhost:8080/",
          "height": 36
        },
        "outputId": "39ccf736-e79a-4b4f-fdf0-88ff2b7c430b"
      },
      "source": [
        "d2.items()"
      ],
      "execution_count": 38,
      "outputs": [
        {
          "output_type": "execute_result",
          "data": {
            "text/plain": [
              "dict_items([('machine', 'learning'), ('artificial', 'intelligence'), ('deep', '12')])"
            ]
          },
          "metadata": {
            "tags": []
          },
          "execution_count": 38
        }
      ]
    },
    {
      "cell_type": "code",
      "metadata": {
        "id": "j5Oyr1AFpC4f",
        "colab_type": "code",
        "colab": {
          "base_uri": "https://localhost:8080/",
          "height": 73
        },
        "outputId": "acbbb7f6-8edf-4309-96d5-f8fb6108a423"
      },
      "source": [
        "for key,value in d2.items():\n",
        "  print(key,value)"
      ],
      "execution_count": 39,
      "outputs": [
        {
          "output_type": "stream",
          "text": [
            "machine learning\n",
            "artificial intelligence\n",
            "deep 12\n"
          ],
          "name": "stdout"
        }
      ]
    },
    {
      "cell_type": "code",
      "metadata": {
        "id": "yvLoDN4e27lC",
        "colab_type": "code",
        "colab": {
          "base_uri": "https://localhost:8080/",
          "height": 36
        },
        "outputId": "6e50eef2-f8b5-4889-c547-027548d53b50"
      },
      "source": [
        "d.items()"
      ],
      "execution_count": 41,
      "outputs": [
        {
          "output_type": "execute_result",
          "data": {
            "text/plain": [
              "dict_items([('python', 1), ('course', 2)])"
            ]
          },
          "metadata": {
            "tags": []
          },
          "execution_count": 41
        }
      ]
    },
    {
      "cell_type": "code",
      "metadata": {
        "id": "ffQvbfgepJVv",
        "colab_type": "code",
        "colab": {
          "base_uri": "https://localhost:8080/",
          "height": 36
        },
        "outputId": "207bfea3-2387-4775-ccd8-d9f77ad421d0"
      },
      "source": [
        "for k,v in d.items():\n",
        "  if v == 2:\n",
        "    print(k)"
      ],
      "execution_count": 40,
      "outputs": [
        {
          "output_type": "stream",
          "text": [
            "course\n"
          ],
          "name": "stdout"
        }
      ]
    },
    {
      "cell_type": "code",
      "metadata": {
        "id": "fmxKFTs4pqwP",
        "colab_type": "code",
        "colab": {
          "base_uri": "https://localhost:8080/",
          "height": 36
        },
        "outputId": "00c1e6c2-d0ef-4c05-ab74-0c26ecb9b979"
      },
      "source": [
        "print(d)"
      ],
      "execution_count": 42,
      "outputs": [
        {
          "output_type": "stream",
          "text": [
            "{'python': 1, 'course': 2}\n"
          ],
          "name": "stdout"
        }
      ]
    },
    {
      "cell_type": "code",
      "metadata": {
        "id": "iy6FAQxHpt6Q",
        "colab_type": "code",
        "colab": {
          "base_uri": "https://localhost:8080/",
          "height": 36
        },
        "outputId": "2cd86fd8-ea9f-4d7a-b407-8d225398783b"
      },
      "source": [
        "d[\"a\"] = [3,4,5]\n",
        "d"
      ],
      "execution_count": 45,
      "outputs": [
        {
          "output_type": "execute_result",
          "data": {
            "text/plain": [
              "{'a': [3, 4, 5], 'python': 1}"
            ]
          },
          "metadata": {
            "tags": []
          },
          "execution_count": 45
        }
      ]
    },
    {
      "cell_type": "code",
      "metadata": {
        "id": "AINo_32Upzyv",
        "colab_type": "code",
        "colab": {
          "base_uri": "https://localhost:8080/",
          "height": 36
        },
        "outputId": "a4d3fb87-2d90-4d20-c648-66e57a884ae8"
      },
      "source": [
        "d.pop(\"course\")\n",
        "d"
      ],
      "execution_count": 44,
      "outputs": [
        {
          "output_type": "execute_result",
          "data": {
            "text/plain": [
              "{'python': 1}"
            ]
          },
          "metadata": {
            "tags": []
          },
          "execution_count": 44
        }
      ]
    },
    {
      "cell_type": "code",
      "metadata": {
        "id": "U8QBwgp0sSJi",
        "colab_type": "code",
        "colab": {
          "base_uri": "https://localhost:8080/",
          "height": 36
        },
        "outputId": "f1aec4e5-57c1-4050-8588-934a4e72872d"
      },
      "source": [
        "len(d)"
      ],
      "execution_count": 46,
      "outputs": [
        {
          "output_type": "execute_result",
          "data": {
            "text/plain": [
              "2"
            ]
          },
          "metadata": {
            "tags": []
          },
          "execution_count": 46
        }
      ]
    },
    {
      "cell_type": "code",
      "metadata": {
        "id": "89k7tFi_sWJO",
        "colab_type": "code",
        "colab": {
          "base_uri": "https://localhost:8080/",
          "height": 36
        },
        "outputId": "035f84f4-9cc8-401e-cac1-52295d627189"
      },
      "source": [
        "\"a\" in d"
      ],
      "execution_count": 48,
      "outputs": [
        {
          "output_type": "execute_result",
          "data": {
            "text/plain": [
              "True"
            ]
          },
          "metadata": {
            "tags": []
          },
          "execution_count": 48
        }
      ]
    },
    {
      "cell_type": "code",
      "metadata": {
        "id": "XdyIf0L1sYRM",
        "colab_type": "code",
        "colab": {
          "base_uri": "https://localhost:8080/",
          "height": 36
        },
        "outputId": "94593aa4-169a-4040-d5db-65146a1b505a"
      },
      "source": [
        "\"python\" in d"
      ],
      "execution_count": 49,
      "outputs": [
        {
          "output_type": "execute_result",
          "data": {
            "text/plain": [
              "True"
            ]
          },
          "metadata": {
            "tags": []
          },
          "execution_count": 49
        }
      ]
    },
    {
      "cell_type": "code",
      "metadata": {
        "id": "oJvHWYyouN9w",
        "colab_type": "code",
        "colab": {
          "base_uri": "https://localhost:8080/",
          "height": 36
        },
        "outputId": "3291c06a-d856-47fd-87a8-4d24d065844c"
      },
      "source": [
        "d2"
      ],
      "execution_count": 50,
      "outputs": [
        {
          "output_type": "execute_result",
          "data": {
            "text/plain": [
              "{'artificial': 'intelligence', 'deep': '12', 'machine': 'learning'}"
            ]
          },
          "metadata": {
            "tags": []
          },
          "execution_count": 50
        }
      ]
    },
    {
      "cell_type": "code",
      "metadata": {
        "id": "uAtvUx9Jsf0w",
        "colab_type": "code",
        "colab": {
          "base_uri": "https://localhost:8080/",
          "height": 36
        },
        "outputId": "d29e5cc0-99f0-4bb7-e5e3-4a625922c45b"
      },
      "source": [
        "d2.get(\"artificial\")"
      ],
      "execution_count": null,
      "outputs": [
        {
          "output_type": "execute_result",
          "data": {
            "application/vnd.google.colaboratory.intrinsic+json": {
              "type": "string"
            },
            "text/plain": [
              "'intelligence'"
            ]
          },
          "metadata": {
            "tags": []
          },
          "execution_count": 138
        }
      ]
    },
    {
      "cell_type": "code",
      "metadata": {
        "id": "GobxPk3fuWi2",
        "colab_type": "code",
        "colab": {
          "base_uri": "https://localhost:8080/",
          "height": 36
        },
        "outputId": "52b2c093-6024-4be6-a4a8-26470994c486"
      },
      "source": [
        "print(d2.get(\"asli\"))\n"
      ],
      "execution_count": 52,
      "outputs": [
        {
          "output_type": "stream",
          "text": [
            "None\n"
          ],
          "name": "stdout"
        }
      ]
    },
    {
      "cell_type": "code",
      "metadata": {
        "id": "DbyOY3N_7Luy",
        "colab_type": "code",
        "colab": {
          "base_uri": "https://localhost:8080/",
          "height": 36
        },
        "outputId": "9d86c112-27ab-4633-c316-28a6a6bf344a"
      },
      "source": [
        "d2"
      ],
      "execution_count": 53,
      "outputs": [
        {
          "output_type": "execute_result",
          "data": {
            "text/plain": [
              "{'artificial': 'intelligence', 'deep': '12', 'machine': 'learning'}"
            ]
          },
          "metadata": {
            "tags": []
          },
          "execution_count": 53
        }
      ]
    },
    {
      "cell_type": "code",
      "metadata": {
        "id": "nyH6npGYuhRD",
        "colab_type": "code",
        "colab": {
          "base_uri": "https://localhost:8080/",
          "height": 35
        },
        "outputId": "b5a8ef56-c1cb-449b-9903-c426bb8c9fc7"
      },
      "source": [
        "del d2[\"deep\"]\n",
        "d2"
      ],
      "execution_count": null,
      "outputs": [
        {
          "output_type": "execute_result",
          "data": {
            "text/plain": [
              "{'artificial': 'intelligence', 'machine': 'learning'}"
            ]
          },
          "metadata": {
            "tags": []
          },
          "execution_count": 141
        }
      ]
    },
    {
      "cell_type": "code",
      "metadata": {
        "id": "rED5dTIhvSO6",
        "colab_type": "code",
        "colab": {
          "base_uri": "https://localhost:8080/",
          "height": 73
        },
        "outputId": "067547dc-f6c2-4e41-cbd5-c25486891cc8"
      },
      "source": [
        "d4 = {\"insan\":2, \"kedi\":4, \"örümcek\":8}\n",
        "\"\"\"\n",
        "for i in d4:\n",
        "  ayak = d4[i]\n",
        "  print(\"%s canlısının %d adet ayağı bulunur\" % (i,ayak))\n",
        "  print(str(i) + \" canlısının \" + str(ayak) +\" adet ayağı bulunur.\")\n",
        "  \"\"\"\n",
        "\n",
        "for key,value in d4.items():\n",
        "  print(\"%s canlısının %d adet ayağı vardır\" % (key,value))\n"
      ],
      "execution_count": 59,
      "outputs": [
        {
          "output_type": "stream",
          "text": [
            "insan canlısının 2 adet ayağı vardır\n",
            "kedi canlısının 4 adet ayağı vardır\n",
            "örümcek canlısının 8 adet ayağı vardır\n"
          ],
          "name": "stdout"
        }
      ]
    },
    {
      "cell_type": "code",
      "metadata": {
        "id": "jko6Pmn-9UG0",
        "colab_type": "code",
        "colab": {
          "base_uri": "https://localhost:8080/",
          "height": 36
        },
        "outputId": "bffac18d-a21d-4cb3-bfbf-0e07a08c3b92"
      },
      "source": [
        "import math as m\n",
        "f=m.floor(18.7)\n",
        "f\n",
        "c=m.ceil(18.7)\n",
        "c\n",
        "\"\"\"\n",
        "i=17\n",
        "flo=float(i)\n",
        "flo\n",
        "\"\"\""
      ],
      "execution_count": 67,
      "outputs": [
        {
          "output_type": "execute_result",
          "data": {
            "application/vnd.google.colaboratory.intrinsic+json": {
              "type": "string"
            },
            "text/plain": [
              "'\\ni=17\\nflo=float(i)\\nflo\\n'"
            ]
          },
          "metadata": {
            "tags": []
          },
          "execution_count": 67
        }
      ]
    },
    {
      "cell_type": "code",
      "metadata": {
        "id": "68b29KEz7kLN",
        "colab_type": "code",
        "colab": {
          "base_uri": "https://localhost:8080/",
          "height": 73
        },
        "outputId": "31f6e33e-df3c-4123-fe45-dbbab56f6b9d"
      },
      "source": [
        "d4 = {\"insan\":2, \"kedi\":4, \"örümcek\":8}\n",
        "for i in d4:\n",
        "  print(i)"
      ],
      "execution_count": 58,
      "outputs": [
        {
          "output_type": "stream",
          "text": [
            "insan\n",
            "kedi\n",
            "örümcek\n"
          ],
          "name": "stdout"
        }
      ]
    },
    {
      "cell_type": "code",
      "metadata": {
        "id": "CGzBpPlgwUTX",
        "colab_type": "code",
        "colab": {
          "base_uri": "https://localhost:8080/",
          "height": 70
        },
        "outputId": "fa668070-d5d3-44ec-90ea-c510952324a0"
      },
      "source": [
        "d4 = {\"insan\":2, \"kedi\":4, \"örümcek\":8}\n",
        "\n",
        "for i,ayak in d4.items():\n",
        "  print(str(i) + \" canlısının \" + str(ayak) +\" adet ayağı bulunur.\")"
      ],
      "execution_count": null,
      "outputs": [
        {
          "output_type": "stream",
          "text": [
            "insan canlısının 2 adet ayağı bulunur.\n",
            "kedi canlısının 4 adet ayağı bulunur.\n",
            "örümcek canlısının 8 adet ayağı bulunur.\n"
          ],
          "name": "stdout"
        }
      ]
    },
    {
      "cell_type": "code",
      "metadata": {
        "id": "SZia6YVqwfNU",
        "colab_type": "code",
        "colab": {}
      },
      "source": [
        "ilceler = {\"İstanbul\":[\"Bostancı\", \"Beşiktaş\", \"Kadıköy\"], \n",
        "           \"Ankara\":[\"Çankaya\", \"Gölbaşı\", \"Kızılcahamam\"],\n",
        "           \"İzmir\":[\"Çeşme\",\"Bornova\",\"Foça\"]}"
      ],
      "execution_count": 68,
      "outputs": []
    },
    {
      "cell_type": "code",
      "metadata": {
        "id": "4HyiNDwcwfAD",
        "colab_type": "code",
        "colab": {
          "base_uri": "https://localhost:8080/",
          "height": 36
        },
        "outputId": "db0480e4-c3ad-478a-9153-117f979ccd0a"
      },
      "source": [
        "ilceler[\"İstanbul\"]"
      ],
      "execution_count": 69,
      "outputs": [
        {
          "output_type": "execute_result",
          "data": {
            "text/plain": [
              "['Bostancı', 'Beşiktaş', 'Kadıköy']"
            ]
          },
          "metadata": {
            "tags": []
          },
          "execution_count": 69
        }
      ]
    },
    {
      "cell_type": "code",
      "metadata": {
        "id": "CMpXSAUuxmmB",
        "colab_type": "code",
        "colab": {
          "base_uri": "https://localhost:8080/",
          "height": 36
        },
        "outputId": "6240214c-ebc6-4bf5-c3ed-cf86107218e6"
      },
      "source": [
        "type(ilceler)"
      ],
      "execution_count": 70,
      "outputs": [
        {
          "output_type": "execute_result",
          "data": {
            "text/plain": [
              "dict"
            ]
          },
          "metadata": {
            "tags": []
          },
          "execution_count": 70
        }
      ]
    },
    {
      "cell_type": "code",
      "metadata": {
        "id": "yOyreuu_xqgL",
        "colab_type": "code",
        "colab": {
          "base_uri": "https://localhost:8080/",
          "height": 35
        },
        "outputId": "87123a0c-a302-4bd5-a654-8068fd82540d"
      },
      "source": [
        "type(ilceler[\"Ankara\"])"
      ],
      "execution_count": null,
      "outputs": [
        {
          "output_type": "execute_result",
          "data": {
            "text/plain": [
              "list"
            ]
          },
          "metadata": {
            "tags": []
          },
          "execution_count": 148
        }
      ]
    },
    {
      "cell_type": "code",
      "metadata": {
        "id": "IkEELafx-tyl",
        "colab_type": "code",
        "colab": {
          "base_uri": "https://localhost:8080/",
          "height": 36
        },
        "outputId": "ecaf82c2-36fa-4f8f-a3ef-5024901786c3"
      },
      "source": [
        "ilceler[\"İzmir\"]"
      ],
      "execution_count": 71,
      "outputs": [
        {
          "output_type": "execute_result",
          "data": {
            "text/plain": [
              "['Çeşme', 'Bornova', 'Foça']"
            ]
          },
          "metadata": {
            "tags": []
          },
          "execution_count": 71
        }
      ]
    },
    {
      "cell_type": "code",
      "metadata": {
        "id": "jTxblvirxu9I",
        "colab_type": "code",
        "colab": {
          "base_uri": "https://localhost:8080/",
          "height": 36
        },
        "outputId": "75c9e9f9-d899-4cf7-fa8a-e8e98d70a3c4"
      },
      "source": [
        "ilceler[\"İzmir\"][1:3]"
      ],
      "execution_count": 74,
      "outputs": [
        {
          "output_type": "execute_result",
          "data": {
            "text/plain": [
              "['Bornova', 'Foça']"
            ]
          },
          "metadata": {
            "tags": []
          },
          "execution_count": 74
        }
      ]
    },
    {
      "cell_type": "code",
      "metadata": {
        "id": "b2gxQlCvyMcq",
        "colab_type": "code",
        "colab": {
          "base_uri": "https://localhost:8080/",
          "height": 36
        },
        "outputId": "6aaa7b71-8b1c-4ea7-e638-5e4ea791648d"
      },
      "source": [
        "ilceler[\"İzmir\"][2]"
      ],
      "execution_count": null,
      "outputs": [
        {
          "output_type": "execute_result",
          "data": {
            "application/vnd.google.colaboratory.intrinsic+json": {
              "type": "string"
            },
            "text/plain": [
              "'Foça'"
            ]
          },
          "metadata": {
            "tags": []
          },
          "execution_count": 150
        }
      ]
    },
    {
      "cell_type": "code",
      "metadata": {
        "id": "Take2YvbyQSd",
        "colab_type": "code",
        "colab": {
          "base_uri": "https://localhost:8080/",
          "height": 36
        },
        "outputId": "9140d314-37f1-4763-9c7f-4f7cdec32721"
      },
      "source": [
        "#listeden sözlük oluşturma\n",
        "0-1-2-3-4-5-6-7-8\n",
        "sayilar = list(range(9))\n",
        "\"\"\"\n",
        "{\"key\":\"value\"}\n",
        "continue\n",
        "\"\"\"\n",
        "cift_kare = {x: x**2 for x in sayilar if x % 2 == 0}\n",
        "\n",
        "print(cift_kare)"
      ],
      "execution_count": 75,
      "outputs": [
        {
          "output_type": "stream",
          "text": [
            "{0: 0, 2: 4, 4: 16, 6: 36, 8: 64}\n"
          ],
          "name": "stdout"
        }
      ]
    },
    {
      "cell_type": "markdown",
      "metadata": {
        "id": "Ak4uMk3pzHZI",
        "colab_type": "text"
      },
      "source": [
        "#Kümeler (Sets)\n",
        "\n",
        "\n",
        "*   Bir küme, listelerden farklı olarak, belli bir sırası bulunmayan bir veri topluluğudur; elemanlarına indexleme ile erişilemez.\n",
        "*   Tıpkı matematiksel kümeler gibi, aynı elemandan birden fazla barındıramaz. \n",
        "\n",
        "*   Kümeler içerisine bir öğe ancak bir defa eklenebilir. Yani bir küme iki\n",
        "aynı elemana sahip olamaz.\n",
        "*   Boş küme oluşturmak için set() fonksiyonunu kullanıyoruz.\n",
        "\n",
        "\n",
        "\n",
        "\n",
        "\n"
      ]
    },
    {
      "cell_type": "code",
      "metadata": {
        "id": "zt5jfulzBqiY",
        "colab_type": "code",
        "colab": {}
      },
      "source": [
        "{\"Key\":\"Value\"}"
      ],
      "execution_count": null,
      "outputs": []
    },
    {
      "cell_type": "code",
      "metadata": {
        "id": "QgZuDyx3yvn9",
        "colab_type": "code",
        "colab": {
          "base_uri": "https://localhost:8080/",
          "height": 36
        },
        "outputId": "8511eb1f-eba6-4314-fd2d-47c2731108fe"
      },
      "source": [
        "s = {\"python\", 5,6,8,5,6,\"abc\", \"python\"}\n",
        "s"
      ],
      "execution_count": 77,
      "outputs": [
        {
          "output_type": "execute_result",
          "data": {
            "text/plain": [
              "{5, 6, 8, 'abc', 'python'}"
            ]
          },
          "metadata": {
            "tags": []
          },
          "execution_count": 77
        }
      ]
    },
    {
      "cell_type": "code",
      "metadata": {
        "id": "try03m8OB10X",
        "colab_type": "code",
        "colab": {
          "base_uri": "https://localhost:8080/",
          "height": 36
        },
        "outputId": "deae43f5-2a7f-46da-ce82-92ccf841a355"
      },
      "source": [
        "l=[1,2,3,4,5,3,2]\n",
        "print(type(list(set(l))))"
      ],
      "execution_count": 80,
      "outputs": [
        {
          "output_type": "stream",
          "text": [
            "<class 'list'>\n"
          ],
          "name": "stdout"
        }
      ]
    },
    {
      "cell_type": "code",
      "metadata": {
        "id": "1ss2ml_YCIRo",
        "colab_type": "code",
        "colab": {}
      },
      "source": [
        ""
      ],
      "execution_count": null,
      "outputs": []
    },
    {
      "cell_type": "code",
      "metadata": {
        "id": "KmzyF9b--0Ci",
        "colab_type": "code",
        "colab": {
          "base_uri": "https://localhost:8080/",
          "height": 36
        },
        "outputId": "6e227863-b784-4f31-91dc-70949b80e656"
      },
      "source": [
        "bos = set()\n",
        "bos"
      ],
      "execution_count": 82,
      "outputs": [
        {
          "output_type": "execute_result",
          "data": {
            "text/plain": [
              "set()"
            ]
          },
          "metadata": {
            "tags": []
          },
          "execution_count": 82
        }
      ]
    },
    {
      "cell_type": "code",
      "metadata": {
        "id": "8qLJrT9VAUvf",
        "colab_type": "code",
        "colab": {
          "base_uri": "https://localhost:8080/",
          "height": 35
        },
        "outputId": "49d3a738-03e5-45f9-a284-eab1cd844848"
      },
      "source": [
        "bos2 = {}\n",
        "type(bos2)"
      ],
      "execution_count": null,
      "outputs": [
        {
          "output_type": "execute_result",
          "data": {
            "text/plain": [
              "dict"
            ]
          },
          "metadata": {
            "tags": []
          },
          "execution_count": 153
        }
      ]
    },
    {
      "cell_type": "code",
      "metadata": {
        "id": "cH4PCXOhAZpS",
        "colab_type": "code",
        "colab": {
          "base_uri": "https://localhost:8080/",
          "height": 36
        },
        "outputId": "ad6d1513-08d0-4669-c180-58735b4739ae"
      },
      "source": [
        "s2 = set([\"python\", 5,6,8,5,6,\"abc\", \"python\"])\n",
        "print(s2)"
      ],
      "execution_count": 86,
      "outputs": [
        {
          "output_type": "stream",
          "text": [
            "{5, 6, 8, 'abc', 'python'}\n"
          ],
          "name": "stdout"
        }
      ]
    },
    {
      "cell_type": "code",
      "metadata": {
        "id": "TLu1Ec_bA__q",
        "colab_type": "code",
        "colab": {
          "base_uri": "https://localhost:8080/",
          "height": 55
        },
        "outputId": "9ec754f9-fea0-4eb0-f786-00861e7187ac"
      },
      "source": [
        "an = set(\"ananas\")\n",
        "print(an)"
      ],
      "execution_count": 84,
      "outputs": [
        {
          "output_type": "stream",
          "text": [
            "{'a', 'n', 's'}\n",
            "{'a', 'n', 's'}\n"
          ],
          "name": "stdout"
        }
      ]
    },
    {
      "cell_type": "code",
      "metadata": {
        "id": "JEA3fgi7BXBR",
        "colab_type": "code",
        "colab": {
          "base_uri": "https://localhost:8080/",
          "height": 186
        },
        "outputId": "ffaeb6f0-240c-4dea-a179-4b98c7051dca"
      },
      "source": [
        "y = {\"a\",\"b\",[1,2,3],5,6}\n",
        "print(y)"
      ],
      "execution_count": null,
      "outputs": [
        {
          "output_type": "error",
          "ename": "TypeError",
          "evalue": "ignored",
          "traceback": [
            "\u001b[0;31m---------------------------------------------------------------------------\u001b[0m",
            "\u001b[0;31mTypeError\u001b[0m                                 Traceback (most recent call last)",
            "\u001b[0;32m<ipython-input-157-215d4652bbe6>\u001b[0m in \u001b[0;36m<module>\u001b[0;34m()\u001b[0m\n\u001b[0;32m----> 1\u001b[0;31m \u001b[0my\u001b[0m \u001b[0;34m=\u001b[0m \u001b[0;34m{\u001b[0m\u001b[0;34m\"a\"\u001b[0m\u001b[0;34m,\u001b[0m\u001b[0;34m\"b\"\u001b[0m\u001b[0;34m,\u001b[0m\u001b[0;34m[\u001b[0m\u001b[0;36m1\u001b[0m\u001b[0;34m,\u001b[0m\u001b[0;36m2\u001b[0m\u001b[0;34m,\u001b[0m\u001b[0;36m3\u001b[0m\u001b[0;34m]\u001b[0m\u001b[0;34m,\u001b[0m\u001b[0;36m5\u001b[0m\u001b[0;34m,\u001b[0m\u001b[0;36m6\u001b[0m\u001b[0;34m}\u001b[0m\u001b[0;34m\u001b[0m\u001b[0;34m\u001b[0m\u001b[0m\n\u001b[0m\u001b[1;32m      2\u001b[0m \u001b[0mprint\u001b[0m\u001b[0;34m(\u001b[0m\u001b[0my\u001b[0m\u001b[0;34m)\u001b[0m\u001b[0;34m\u001b[0m\u001b[0;34m\u001b[0m\u001b[0m\n",
            "\u001b[0;31mTypeError\u001b[0m: unhashable type: 'list'"
          ]
        }
      ]
    },
    {
      "cell_type": "code",
      "metadata": {
        "id": "WNZzrXshBy-0",
        "colab_type": "code",
        "colab": {
          "base_uri": "https://localhost:8080/",
          "height": 36
        },
        "outputId": "1425eedc-32dc-4c6e-cf7f-d9a4afcb19e5"
      },
      "source": [
        "s2"
      ],
      "execution_count": 87,
      "outputs": [
        {
          "output_type": "execute_result",
          "data": {
            "text/plain": [
              "{5, 6, 8, 'abc', 'python'}"
            ]
          },
          "metadata": {
            "tags": []
          },
          "execution_count": 87
        }
      ]
    },
    {
      "cell_type": "code",
      "metadata": {
        "id": "k1IVnwKEB0Wn",
        "colab_type": "code",
        "colab": {
          "base_uri": "https://localhost:8080/",
          "height": 35
        },
        "outputId": "c7eefb52-3522-4954-f90a-b7cdc30e4ee2"
      },
      "source": [
        "6 in s2"
      ],
      "execution_count": null,
      "outputs": [
        {
          "output_type": "execute_result",
          "data": {
            "text/plain": [
              "True"
            ]
          },
          "metadata": {
            "tags": []
          },
          "execution_count": 159
        }
      ]
    },
    {
      "cell_type": "code",
      "metadata": {
        "id": "GUtmrwfhB2mj",
        "colab_type": "code",
        "colab": {
          "base_uri": "https://localhost:8080/",
          "height": 35
        },
        "outputId": "d52e785c-6aa7-4397-ed56-a0599cdbe4f5"
      },
      "source": [
        "9 in s2"
      ],
      "execution_count": null,
      "outputs": [
        {
          "output_type": "execute_result",
          "data": {
            "text/plain": [
              "False"
            ]
          },
          "metadata": {
            "tags": []
          },
          "execution_count": 160
        }
      ]
    },
    {
      "cell_type": "code",
      "metadata": {
        "id": "lPvxuypLB4Pg",
        "colab_type": "code",
        "colab": {
          "base_uri": "https://localhost:8080/",
          "height": 35
        },
        "outputId": "f13d4e43-966b-4b31-8bdc-12093592e187"
      },
      "source": [
        "len(s2)"
      ],
      "execution_count": null,
      "outputs": [
        {
          "output_type": "execute_result",
          "data": {
            "text/plain": [
              "5"
            ]
          },
          "metadata": {
            "tags": []
          },
          "execution_count": 161
        }
      ]
    },
    {
      "cell_type": "code",
      "metadata": {
        "id": "bkBgN0t_DQ0u",
        "colab_type": "code",
        "colab": {}
      },
      "source": [
        "list.append\n",
        "list[4]=\"\"\n",
        "\n",
        "dict[\"yeni\"]=yenival"
      ],
      "execution_count": null,
      "outputs": []
    },
    {
      "cell_type": "code",
      "metadata": {
        "id": "wCijI6-vCEj6",
        "colab_type": "code",
        "colab": {
          "base_uri": "https://localhost:8080/",
          "height": 36
        },
        "outputId": "ac262278-7fed-4aad-c909-d38143664226"
      },
      "source": [
        "s2.add(\"ai\")\n",
        "len(s2)"
      ],
      "execution_count": 89,
      "outputs": [
        {
          "output_type": "execute_result",
          "data": {
            "text/plain": [
              "6"
            ]
          },
          "metadata": {
            "tags": []
          },
          "execution_count": 89
        }
      ]
    },
    {
      "cell_type": "code",
      "metadata": {
        "id": "tPq001PuCLO3",
        "colab_type": "code",
        "colab": {
          "base_uri": "https://localhost:8080/",
          "height": 55
        },
        "outputId": "98633f00-cf5c-4eba-df3e-7dae74a238bb"
      },
      "source": [
        "s2.add(\"ai\")\n",
        "print(s2)\n",
        "len(s2)"
      ],
      "execution_count": 90,
      "outputs": [
        {
          "output_type": "stream",
          "text": [
            "{5, 6, 8, 'abc', 'ai', 'python'}\n"
          ],
          "name": "stdout"
        },
        {
          "output_type": "execute_result",
          "data": {
            "text/plain": [
              "6"
            ]
          },
          "metadata": {
            "tags": []
          },
          "execution_count": 90
        }
      ]
    },
    {
      "cell_type": "code",
      "metadata": {
        "id": "EGZnvf9WCRYk",
        "colab_type": "code",
        "colab": {
          "base_uri": "https://localhost:8080/",
          "height": 36
        },
        "outputId": "d03b6958-8ff8-4b7d-dbf1-3ded83584298"
      },
      "source": [
        "s2.remove(\"ai\")\n",
        "print(s2)"
      ],
      "execution_count": 91,
      "outputs": [
        {
          "output_type": "stream",
          "text": [
            "{5, 6, 8, 'abc', 'python'}\n"
          ],
          "name": "stdout"
        }
      ]
    },
    {
      "cell_type": "code",
      "metadata": {
        "id": "wtZoskbUDQMN",
        "colab_type": "code",
        "colab": {
          "base_uri": "https://localhost:8080/",
          "height": 56
        },
        "outputId": "7577c6ab-386b-4c30-92f2-dc11da056a13"
      },
      "source": [
        "from math import sqrt #squareroot karekök\n",
        "\n",
        "\n",
        "#import math\n",
        "\n",
        "print(sorted(list({sqrt(x) for x in list(range(10))})))"
      ],
      "execution_count": 99,
      "outputs": [
        {
          "output_type": "stream",
          "text": [
            "[0.0, 1.0, 1.4142135623730951, 1.7320508075688772, 2.0, 2.23606797749979, 2.449489742783178, 2.6457513110645907, 2.8284271247461903, 3.0]\n"
          ],
          "name": "stdout"
        }
      ]
    },
    {
      "cell_type": "markdown",
      "metadata": {
        "id": "sp_E8xAhG21y",
        "colab_type": "text"
      },
      "source": [
        "# Demetler(Tuples)\n",
        "\n",
        "\n",
        "\n",
        "*   Sıralı veri yapısıdır, listeler gibi index değerine sahiptir, tüm veri tiplerini içerisinde barındırabilir. \n",
        "*   Listelerden farklı olarak, değiştirilemeyen bir yapıları vardır.Elimizde birden fazla değiştirilemez değerimiz var ise, bunları bir demet içinde toplayabiliriz.\n",
        "\n"
      ]
    },
    {
      "cell_type": "code",
      "metadata": {
        "id": "8Rui2302H8jD",
        "colab_type": "code",
        "colab": {
          "base_uri": "https://localhost:8080/",
          "height": 55
        },
        "outputId": "87fe12f8-faa6-469e-8bc1-a799478c49c9"
      },
      "source": [
        "demet = (1,2,3,4,5)\n",
        "print(demet)\n",
        "print(type(demet))"
      ],
      "execution_count": 101,
      "outputs": [
        {
          "output_type": "stream",
          "text": [
            "(1, 2, 3, 4, 5)\n",
            "<class 'tuple'>\n"
          ],
          "name": "stdout"
        }
      ]
    },
    {
      "cell_type": "code",
      "metadata": {
        "id": "9IoaOueCFPhh",
        "colab_type": "code",
        "colab": {}
      },
      "source": [
        "{}\n",
        "set()"
      ],
      "execution_count": null,
      "outputs": []
    },
    {
      "cell_type": "code",
      "metadata": {
        "id": "wZffTxPsIqqI",
        "colab_type": "code",
        "colab": {
          "base_uri": "https://localhost:8080/",
          "height": 35
        },
        "outputId": "e043064f-a416-46bd-adcc-9f739ff992f9"
      },
      "source": [
        "demet2 = ()  #boş bir listeyi de, liste = [] olarak tanımlayabiliyorduk.\n",
        "type(demet2)"
      ],
      "execution_count": null,
      "outputs": [
        {
          "output_type": "execute_result",
          "data": {
            "text/plain": [
              "tuple"
            ]
          },
          "metadata": {
            "tags": []
          },
          "execution_count": 168
        }
      ]
    },
    {
      "cell_type": "code",
      "metadata": {
        "id": "7_7u9J1zFVkk",
        "colab_type": "code",
        "colab": {
          "base_uri": "https://localhost:8080/",
          "height": 36
        },
        "outputId": "ad529641-56bf-4914-e10f-234cb6f7abdc"
      },
      "source": [
        "demet"
      ],
      "execution_count": 102,
      "outputs": [
        {
          "output_type": "execute_result",
          "data": {
            "text/plain": [
              "(1, 2, 3, 4, 5)"
            ]
          },
          "metadata": {
            "tags": []
          },
          "execution_count": 102
        }
      ]
    },
    {
      "cell_type": "code",
      "metadata": {
        "id": "IrvB1HzGLYBZ",
        "colab_type": "code",
        "colab": {
          "base_uri": "https://localhost:8080/",
          "height": 35
        },
        "outputId": "dab4ddd5-3799-493f-c314-8f71b67320b8"
      },
      "source": [
        "print(demet[3])"
      ],
      "execution_count": null,
      "outputs": [
        {
          "output_type": "stream",
          "text": [
            "4\n"
          ],
          "name": "stdout"
        }
      ]
    },
    {
      "cell_type": "code",
      "metadata": {
        "id": "y_9FkBJORo5y",
        "colab_type": "code",
        "colab": {
          "base_uri": "https://localhost:8080/",
          "height": 35
        },
        "outputId": "ec7d4abf-777d-4363-c014-9b5ed5c69101"
      },
      "source": [
        "demet[-2]"
      ],
      "execution_count": null,
      "outputs": [
        {
          "output_type": "execute_result",
          "data": {
            "text/plain": [
              "4"
            ]
          },
          "metadata": {
            "tags": []
          },
          "execution_count": 170
        }
      ]
    },
    {
      "cell_type": "code",
      "metadata": {
        "id": "ZPMFZi-qRs4a",
        "colab_type": "code",
        "colab": {
          "base_uri": "https://localhost:8080/",
          "height": 35
        },
        "outputId": "7b3703ec-141d-4ba4-9a4c-d48e3c9ce5d6"
      },
      "source": [
        "demet[:4]"
      ],
      "execution_count": null,
      "outputs": [
        {
          "output_type": "execute_result",
          "data": {
            "text/plain": [
              "(1, 2, 3, 4)"
            ]
          },
          "metadata": {
            "tags": []
          },
          "execution_count": 171
        }
      ]
    },
    {
      "cell_type": "code",
      "metadata": {
        "id": "TeT5RXH1R6Gv",
        "colab_type": "code",
        "colab": {
          "base_uri": "https://localhost:8080/",
          "height": 36
        },
        "outputId": "27f751e0-249d-4b8f-b02c-32aec107addd"
      },
      "source": [
        "dm3 = (\"asli\", 5, 8, \"eylul\")\n",
        "dm3.index(\"eylul\")"
      ],
      "execution_count": 103,
      "outputs": [
        {
          "output_type": "execute_result",
          "data": {
            "text/plain": [
              "3"
            ]
          },
          "metadata": {
            "tags": []
          },
          "execution_count": 103
        }
      ]
    },
    {
      "cell_type": "code",
      "metadata": {
        "id": "wRks9wXwSRhJ",
        "colab_type": "code",
        "colab": {
          "base_uri": "https://localhost:8080/",
          "height": 36
        },
        "outputId": "c5aff6bb-620e-4822-b659-d3f0ea04dd0b"
      },
      "source": [
        "dm3.count(5)"
      ],
      "execution_count": 104,
      "outputs": [
        {
          "output_type": "execute_result",
          "data": {
            "text/plain": [
              "1"
            ]
          },
          "metadata": {
            "tags": []
          },
          "execution_count": 104
        }
      ]
    },
    {
      "cell_type": "code",
      "metadata": {
        "id": "Bo_JC5jkSWMf",
        "colab_type": "code",
        "colab": {
          "base_uri": "https://localhost:8080/",
          "height": 239
        },
        "outputId": "c8777e9c-074f-42d5-9e72-bf7c154eb653"
      },
      "source": [
        "dm4 = (\"elma\",\"armut\",\"çilek\")\n",
        "\n",
        "dm4[0] = \"kiraz\"\n",
        "\n",
        "print(dm4)"
      ],
      "execution_count": null,
      "outputs": [
        {
          "output_type": "error",
          "ename": "TypeError",
          "evalue": "ignored",
          "traceback": [
            "\u001b[0;31m---------------------------------------------------------------------------\u001b[0m",
            "\u001b[0;31mTypeError\u001b[0m                                 Traceback (most recent call last)",
            "\u001b[0;32m<ipython-input-174-08bce6b9718c>\u001b[0m in \u001b[0;36m<module>\u001b[0;34m()\u001b[0m\n\u001b[1;32m      1\u001b[0m \u001b[0mdm4\u001b[0m \u001b[0;34m=\u001b[0m \u001b[0;34m(\u001b[0m\u001b[0;34m\"elma\"\u001b[0m\u001b[0;34m,\u001b[0m\u001b[0;34m\"armut\"\u001b[0m\u001b[0;34m,\u001b[0m\u001b[0;34m\"çilek\"\u001b[0m\u001b[0;34m)\u001b[0m\u001b[0;34m\u001b[0m\u001b[0;34m\u001b[0m\u001b[0m\n\u001b[1;32m      2\u001b[0m \u001b[0;34m\u001b[0m\u001b[0m\n\u001b[0;32m----> 3\u001b[0;31m \u001b[0mdm4\u001b[0m\u001b[0;34m[\u001b[0m\u001b[0;36m0\u001b[0m\u001b[0;34m]\u001b[0m \u001b[0;34m=\u001b[0m \u001b[0;34m\"kiraz\"\u001b[0m\u001b[0;34m\u001b[0m\u001b[0;34m\u001b[0m\u001b[0m\n\u001b[0m\u001b[1;32m      4\u001b[0m \u001b[0;34m\u001b[0m\u001b[0m\n\u001b[1;32m      5\u001b[0m \u001b[0mprint\u001b[0m\u001b[0;34m(\u001b[0m\u001b[0mdm4\u001b[0m\u001b[0;34m)\u001b[0m\u001b[0;34m\u001b[0m\u001b[0;34m\u001b[0m\u001b[0m\n",
            "\u001b[0;31mTypeError\u001b[0m: 'tuple' object does not support item assignment"
          ]
        }
      ]
    },
    {
      "cell_type": "code",
      "metadata": {
        "id": "twLyvUivSoBr",
        "colab_type": "code",
        "colab": {
          "base_uri": "https://localhost:8080/",
          "height": 168
        },
        "outputId": "492c221c-2c88-4774-b16d-7f3040ccaa70"
      },
      "source": [
        "dm4.remove(\"armut\")"
      ],
      "execution_count": null,
      "outputs": [
        {
          "output_type": "error",
          "ename": "AttributeError",
          "evalue": "ignored",
          "traceback": [
            "\u001b[0;31m---------------------------------------------------------------------------\u001b[0m",
            "\u001b[0;31mAttributeError\u001b[0m                            Traceback (most recent call last)",
            "\u001b[0;32m<ipython-input-175-85e9113c16c3>\u001b[0m in \u001b[0;36m<module>\u001b[0;34m()\u001b[0m\n\u001b[0;32m----> 1\u001b[0;31m \u001b[0mdm4\u001b[0m\u001b[0;34m.\u001b[0m\u001b[0mremove\u001b[0m\u001b[0;34m(\u001b[0m\u001b[0;34m\"armut\"\u001b[0m\u001b[0;34m)\u001b[0m\u001b[0;34m\u001b[0m\u001b[0;34m\u001b[0m\u001b[0m\n\u001b[0m",
            "\u001b[0;31mAttributeError\u001b[0m: 'tuple' object has no attribute 'remove'"
          ]
        }
      ]
    },
    {
      "cell_type": "code",
      "metadata": {
        "id": "vSdY0CMtTLrH",
        "colab_type": "code",
        "colab": {
          "base_uri": "https://localhost:8080/",
          "height": 35
        },
        "outputId": "46eabc10-590c-478e-9d08-10b78b3f1a5d"
      },
      "source": [
        "# demetlerin anahtar olduğu bir sözlük oluşturalım.\n",
        "\n",
        "sozluk = {(x, x+1): x for x in range(10)}\n",
        "print(sozluk)"
      ],
      "execution_count": null,
      "outputs": [
        {
          "output_type": "stream",
          "text": [
            "{(0, 1): 0, (1, 2): 1, (2, 3): 2, (3, 4): 3, (4, 5): 4, (5, 6): 5, (6, 7): 6, (7, 8): 7, (8, 9): 8, (9, 10): 9}\n"
          ],
          "name": "stdout"
        }
      ]
    },
    {
      "cell_type": "code",
      "metadata": {
        "id": "hX8AvulwTm-D",
        "colab_type": "code",
        "colab": {
          "base_uri": "https://localhost:8080/",
          "height": 35
        },
        "outputId": "d25b0273-6de6-427c-8979-4a21b1c0309c"
      },
      "source": [
        "demet5 = (5,6)\n",
        "\n",
        "print(type(demet5))"
      ],
      "execution_count": null,
      "outputs": [
        {
          "output_type": "stream",
          "text": [
            "<class 'tuple'>\n"
          ],
          "name": "stdout"
        }
      ]
    },
    {
      "cell_type": "code",
      "metadata": {
        "id": "Cc0NzYWbT21n",
        "colab_type": "code",
        "colab": {
          "base_uri": "https://localhost:8080/",
          "height": 35
        },
        "outputId": "994340a4-9c84-4ec7-ccc5-deeab889f5ee"
      },
      "source": [
        "sozluk[demet5]"
      ],
      "execution_count": null,
      "outputs": [
        {
          "output_type": "execute_result",
          "data": {
            "text/plain": [
              "5"
            ]
          },
          "metadata": {
            "tags": []
          },
          "execution_count": 178
        }
      ]
    },
    {
      "cell_type": "code",
      "metadata": {
        "id": "3XIfNKugUB1h",
        "colab_type": "code",
        "colab": {
          "base_uri": "https://localhost:8080/",
          "height": 35
        },
        "outputId": "88af65b6-2839-49f5-9326-ad97e1807fda"
      },
      "source": [
        "sozluk[(3,4)]"
      ],
      "execution_count": null,
      "outputs": [
        {
          "output_type": "execute_result",
          "data": {
            "text/plain": [
              "3"
            ]
          },
          "metadata": {
            "tags": []
          },
          "execution_count": 179
        }
      ]
    }
  ]
}