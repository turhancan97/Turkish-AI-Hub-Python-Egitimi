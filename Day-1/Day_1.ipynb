{
  "nbformat": 4,
  "nbformat_minor": 0,
  "metadata": {
    "colab": {
      "name": "Day-1.ipynb",
      "provenance": [],
      "collapsed_sections": []
    },
    "kernelspec": {
      "name": "python3",
      "display_name": "Python 3"
    }
  },
  "cells": [
    {
      "cell_type": "code",
      "metadata": {
        "id": "NGB3j3LcdcbR",
        "colab_type": "code",
        "colab": {
          "base_uri": "https://localhost:8080/",
          "height": 35
        },
        "outputId": "0e918c86-4b77-4d7c-c10f-e1a972106d00"
      },
      "source": [
        "print(\"Hello World\") "
      ],
      "execution_count": 2,
      "outputs": [
        {
          "output_type": "stream",
          "text": [
            "Hello World\n"
          ],
          "name": "stdout"
        }
      ]
    },
    {
      "cell_type": "code",
      "metadata": {
        "id": "luSgefSQgFrV",
        "colab_type": "code",
        "colab": {
          "base_uri": "https://localhost:8080/",
          "height": 35
        },
        "outputId": "4877f177-6614-41be-a626-80cc01087900"
      },
      "source": [
        "print('Hello World')"
      ],
      "execution_count": 3,
      "outputs": [
        {
          "output_type": "stream",
          "text": [
            "Hello World\n"
          ],
          "name": "stdout"
        }
      ]
    },
    {
      "cell_type": "code",
      "metadata": {
        "id": "g_52IrQIgcPv",
        "colab_type": "code",
        "colab": {
          "base_uri": "https://localhost:8080/",
          "height": 70
        },
        "outputId": "8fd62e25-a0e8-453a-8b90-61795d3cbaf1"
      },
      "source": [
        "print(\"Hello1\")\n",
        "print(\"Hello2\")\n",
        "print(\"Hello3\")"
      ],
      "execution_count": 4,
      "outputs": [
        {
          "output_type": "stream",
          "text": [
            "Hello1\n",
            "Hello2\n",
            "Hello3\n"
          ],
          "name": "stdout"
        }
      ]
    },
    {
      "cell_type": "code",
      "metadata": {
        "id": "2ualX2qpg3Hy",
        "colab_type": "code",
        "colab": {
          "base_uri": "https://localhost:8080/",
          "height": 132
        },
        "outputId": "6f5bf215-4619-43b0-ca2a-35e7f275e02e"
      },
      "source": [
        "print \"Hello World\""
      ],
      "execution_count": 5,
      "outputs": [
        {
          "output_type": "error",
          "ename": "SyntaxError",
          "evalue": "ignored",
          "traceback": [
            "\u001b[0;36m  File \u001b[0;32m\"<ipython-input-5-2e860ebf713e>\"\u001b[0;36m, line \u001b[0;32m1\u001b[0m\n\u001b[0;31m    print \"Hello World\"\u001b[0m\n\u001b[0m                      ^\u001b[0m\n\u001b[0;31mSyntaxError\u001b[0m\u001b[0;31m:\u001b[0m Missing parentheses in call to 'print'. Did you mean print(\"Hello World\")?\n"
          ]
        }
      ]
    },
    {
      "cell_type": "code",
      "metadata": {
        "id": "0BOHOWOdhcgp",
        "colab_type": "code",
        "colab": {
          "base_uri": "https://localhost:8080/",
          "height": 168
        },
        "outputId": "10918476-5bf1-4d4e-e744-7ec1f4e31855"
      },
      "source": [
        "print(Hello)"
      ],
      "execution_count": 6,
      "outputs": [
        {
          "output_type": "error",
          "ename": "NameError",
          "evalue": "ignored",
          "traceback": [
            "\u001b[0;31m---------------------------------------------------------------------------\u001b[0m",
            "\u001b[0;31mNameError\u001b[0m                                 Traceback (most recent call last)",
            "\u001b[0;32m<ipython-input-6-85bf5114fa6b>\u001b[0m in \u001b[0;36m<module>\u001b[0;34m()\u001b[0m\n\u001b[0;32m----> 1\u001b[0;31m \u001b[0mprint\u001b[0m\u001b[0;34m(\u001b[0m\u001b[0mHello\u001b[0m\u001b[0;34m)\u001b[0m\u001b[0;34m\u001b[0m\u001b[0;34m\u001b[0m\u001b[0m\n\u001b[0m",
            "\u001b[0;31mNameError\u001b[0m: name 'Hello' is not defined"
          ]
        }
      ]
    },
    {
      "cell_type": "code",
      "metadata": {
        "id": "G69sCzFUhi5j",
        "colab_type": "code",
        "colab": {
          "base_uri": "https://localhost:8080/",
          "height": 132
        },
        "outputId": "02a98d09-409c-4600-d1a5-a8d7a06c9f2c"
      },
      "source": [
        "print(\"Hello')"
      ],
      "execution_count": 7,
      "outputs": [
        {
          "output_type": "error",
          "ename": "SyntaxError",
          "evalue": "ignored",
          "traceback": [
            "\u001b[0;36m  File \u001b[0;32m\"<ipython-input-7-21f0c5b97628>\"\u001b[0;36m, line \u001b[0;32m1\u001b[0m\n\u001b[0;31m    print(\"Hello')\u001b[0m\n\u001b[0m                  ^\u001b[0m\n\u001b[0;31mSyntaxError\u001b[0m\u001b[0;31m:\u001b[0m EOL while scanning string literal\n"
          ]
        }
      ]
    },
    {
      "cell_type": "code",
      "metadata": {
        "id": "JsFmw9IuFSKR",
        "colab_type": "code",
        "colab": {}
      },
      "source": [
        "#yorum yazıyorum\n",
        "#notlar alıyorum"
      ],
      "execution_count": null,
      "outputs": []
    },
    {
      "cell_type": "code",
      "metadata": {
        "id": "llzXRK61FadN",
        "colab_type": "code",
        "colab": {}
      },
      "source": [
        "\"\"\"\n",
        "çoklu satırlı notlar alıyorum\n",
        "\"\"\"\n",
        "\n",
        "'''\n",
        "aefdfhd\n",
        "asgfsfjdgm\n",
        "zfhdfhjgjm\n",
        "sgrsfgjdgjm\n",
        "'''"
      ],
      "execution_count": null,
      "outputs": []
    },
    {
      "cell_type": "markdown",
      "metadata": {
        "id": "UpftepKehvXQ",
        "colab_type": "text"
      },
      "source": [
        "# Bölüm1\n",
        "###Notlar alıyorum.\n",
        "dfgsfxjcgkj\n",
        "\n",
        "sfdtxhfcgk\n",
        "\n",
        "**print(\"hello\")**"
      ]
    },
    {
      "cell_type": "code",
      "metadata": {
        "id": "1h7LyZ-Bh05f",
        "colab_type": "code",
        "colab": {}
      },
      "source": [
        ""
      ],
      "execution_count": null,
      "outputs": []
    },
    {
      "cell_type": "markdown",
      "metadata": {
        "id": "mXdNaw3jicgn",
        "colab_type": "text"
      },
      "source": [
        ""
      ]
    },
    {
      "cell_type": "markdown",
      "metadata": {
        "id": "Krc5HwdxkFvT",
        "colab_type": "text"
      },
      "source": [
        "# Bölüm2 \n",
        "\n",
        "##Değişken Tanımlama\n",
        "\n",
        "değişken = değer\n",
        "\n",
        "n = 1"
      ]
    },
    {
      "cell_type": "code",
      "metadata": {
        "id": "Sb178VuUloLP",
        "colab_type": "code",
        "colab": {}
      },
      "source": [
        "n = 1\n",
        "print(n)"
      ],
      "execution_count": null,
      "outputs": []
    },
    {
      "cell_type": "code",
      "metadata": {
        "id": "Pi9_2kaXmiOz",
        "colab_type": "code",
        "colab": {}
      },
      "source": [
        "print(n)"
      ],
      "execution_count": null,
      "outputs": []
    },
    {
      "cell_type": "code",
      "metadata": {
        "id": "2QsfXllKmncM",
        "colab_type": "code",
        "colab": {}
      },
      "source": [
        "n = 5"
      ],
      "execution_count": null,
      "outputs": []
    },
    {
      "cell_type": "code",
      "metadata": {
        "id": "iDcjeHBQmqYX",
        "colab_type": "code",
        "colab": {}
      },
      "source": [
        "print(n)"
      ],
      "execution_count": null,
      "outputs": []
    },
    {
      "cell_type": "code",
      "metadata": {
        "id": "18yuPbb5m9GG",
        "colab_type": "code",
        "colab": {}
      },
      "source": [
        "p = n\n",
        "print(p)"
      ],
      "execution_count": null,
      "outputs": []
    },
    {
      "cell_type": "code",
      "metadata": {
        "id": "GO6WONnhnVjB",
        "colab_type": "code",
        "colab": {}
      },
      "source": [
        "hello = \"World\""
      ],
      "execution_count": null,
      "outputs": []
    },
    {
      "cell_type": "code",
      "metadata": {
        "id": "2YZLBCcinyfx",
        "colab_type": "code",
        "colab": {}
      },
      "source": [
        "print(hello) #ekrana değişken yazdırma\n",
        "print(\"World\") #ekrana değer yazdırma"
      ],
      "execution_count": null,
      "outputs": []
    },
    {
      "cell_type": "code",
      "metadata": {
        "id": "letAfxW_oHH-",
        "colab_type": "code",
        "colab": {}
      },
      "source": [
        "print(type(hello)) #veri tipini yazdırma"
      ],
      "execution_count": null,
      "outputs": []
    },
    {
      "cell_type": "code",
      "metadata": {
        "id": "lQcQh8oMomlP",
        "colab_type": "code",
        "colab": {}
      },
      "source": [
        "print(type(p))"
      ],
      "execution_count": null,
      "outputs": []
    },
    {
      "cell_type": "code",
      "metadata": {
        "id": "FMM4y1JXMjsL",
        "colab_type": "code",
        "colab": {}
      },
      "source": [
        "t = 3.5\n",
        "print(type(t))"
      ],
      "execution_count": null,
      "outputs": []
    },
    {
      "cell_type": "code",
      "metadata": {
        "id": "7DtsrxEHyHUH",
        "colab_type": "code",
        "colab": {}
      },
      "source": [
        "t, f = True, False\n",
        "print(type(t))"
      ],
      "execution_count": null,
      "outputs": []
    },
    {
      "cell_type": "code",
      "metadata": {
        "id": "UleuXLMVwCgG",
        "colab_type": "code",
        "colab": {}
      },
      "source": [
        "print(len(hello)) #veri uzunluğunu yazdırma"
      ],
      "execution_count": null,
      "outputs": []
    },
    {
      "cell_type": "code",
      "metadata": {
        "id": "T7x_GUwvwKcS",
        "colab_type": "code",
        "colab": {}
      },
      "source": [
        "print(len(p))"
      ],
      "execution_count": null,
      "outputs": []
    },
    {
      "cell_type": "code",
      "metadata": {
        "id": "CTkJ3E6-M1To",
        "colab_type": "code",
        "colab": {}
      },
      "source": [
        "name = \"Asli\"\n",
        "print(f'Hello {name}')  #F-String"
      ],
      "execution_count": null,
      "outputs": []
    },
    {
      "cell_type": "markdown",
      "metadata": {
        "id": "rOEAqInQGFVu",
        "colab_type": "text"
      },
      "source": [
        "##Matematiksel İşlemler"
      ]
    },
    {
      "cell_type": "code",
      "metadata": {
        "id": "OQzlT59exPuY",
        "colab_type": "code",
        "colab": {}
      },
      "source": [
        "5**2"
      ],
      "execution_count": null,
      "outputs": []
    },
    {
      "cell_type": "code",
      "metadata": {
        "id": "IT5uTIgBGRIz",
        "colab_type": "code",
        "colab": {}
      },
      "source": [
        "35+67"
      ],
      "execution_count": null,
      "outputs": []
    },
    {
      "cell_type": "code",
      "metadata": {
        "id": "UIwXGkZqGVId",
        "colab_type": "code",
        "colab": {}
      },
      "source": [
        "\"35\"+\"67\""
      ],
      "execution_count": null,
      "outputs": []
    },
    {
      "cell_type": "code",
      "metadata": {
        "id": "Qx0vjBUmGZNk",
        "colab_type": "code",
        "colab": {}
      },
      "source": [
        "\"35\" + 67 "
      ],
      "execution_count": null,
      "outputs": []
    },
    {
      "cell_type": "code",
      "metadata": {
        "id": "_EzMFsTMGbw5",
        "colab_type": "code",
        "colab": {}
      },
      "source": [
        "\"35\"*3"
      ],
      "execution_count": null,
      "outputs": []
    },
    {
      "cell_type": "code",
      "metadata": {
        "id": "X_FiEHA9GlUH",
        "colab_type": "code",
        "colab": {}
      },
      "source": [
        "\"hello\"*4"
      ],
      "execution_count": null,
      "outputs": []
    },
    {
      "cell_type": "code",
      "metadata": {
        "id": "qCIBU4v8HH3Y",
        "colab_type": "code",
        "colab": {}
      },
      "source": [
        "x = 10\n",
        "\n",
        "print(x+2)\n",
        "print(x-2)\n",
        "print(x*2)\n",
        "print(x**2)\n",
        "print(x/2)\n",
        "print(x//2) #bölümü verir\n",
        "print(x%2) #bölümden kalanı verir"
      ],
      "execution_count": null,
      "outputs": []
    },
    {
      "cell_type": "code",
      "metadata": {
        "id": "imzLVXBYLNhW",
        "colab_type": "code",
        "colab": {}
      },
      "source": [
        "y = 13\n",
        "print(y//2)\n",
        "print(y%2)"
      ],
      "execution_count": null,
      "outputs": []
    },
    {
      "cell_type": "code",
      "metadata": {
        "id": "21xH-WU1LhkS",
        "colab_type": "code",
        "colab": {}
      },
      "source": [
        "z = 5\n",
        "z+=1 # z= z+1 demek , z'nin eski değeri 5 iken yeni değeri 6 oldu.\n",
        "z"
      ],
      "execution_count": null,
      "outputs": []
    },
    {
      "cell_type": "code",
      "metadata": {
        "id": "2HOE_xOGL3WQ",
        "colab_type": "code",
        "colab": {}
      },
      "source": [
        "z*=2\n",
        "z"
      ],
      "execution_count": null,
      "outputs": []
    }
  ]
}