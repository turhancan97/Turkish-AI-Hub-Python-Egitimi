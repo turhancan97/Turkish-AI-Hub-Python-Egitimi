{
  "nbformat": 4,
  "nbformat_minor": 0,
  "metadata": {
    "colab": {
      "name": "Python Eğitimi 2.gün Soru.ipynb",
      "provenance": [],
      "collapsed_sections": [
        "_df6ctqKq5Yq"
      ]
    },
    "kernelspec": {
      "name": "python3",
      "display_name": "Python 3"
    }
  },
  "cells": [
    {
      "cell_type": "markdown",
      "metadata": {
        "id": "kL-bZidkQSny",
        "colab_type": "text"
      },
      "source": [
        "Soru:\n",
        "\n",
        "Bu alıştırma için oluşturacağımız program, bir restoranda sipariş edilen bir yemeğin vergisini ve bahşişini hesaplayacaktır.\n",
        "\n",
        "Vergiyi yemek miktarının yüzde 8'i, bahşişi ise yemek miktarının yüzde 10'u (vergisiz) olarak hesaplayabilirsiniz.\n",
        "\n",
        "Programınızdan elde edilen çıktı, vergi tutarını, bahşiş miktarını ve hem vergi hem de bahşiş dahil yemek için genel toplamı içermelidir.\n",
        "\n",
        "a)Yemek ücretini tanımlayın.\n",
        "\n",
        "Örnek çıktılar:\n",
        "\n",
        "Yemek ücreti 100 TL\n",
        "\n",
        "çıktı: Vergi 8.00 TL ve bahşiş 10.00 TL, toplam yemek ücreti 118.00 TL.\n",
        "\n",
        "Yemek ücreti 68 TL\n",
        "\n",
        "çıktı: Vergi 5.44 TL ve bahşiş 6.80000000000001 TL, toplam yemek ücreti 80.24 TL.\n",
        "\n",
        "b)Yemek ücretini kullanıcıdan alın.\n",
        "\n",
        "Örnek çıktılar:\n",
        "\n",
        "Lütfen yemek ücretini girin: 100 TL\n",
        "\n",
        "çıktı: Vergi 8.00 TL ve bahşiş 10.00 TL, toplam yemek ücreti 118.00 TL.\n",
        "\n",
        "Lütfen yemek ücretini girin: 68 TL\n",
        "\n",
        "çıktı: Vergi 5.44 TL ve bahşiş 6.80 TL, toplam yemek ücreti 80.24 TL."
      ]
    },
    {
      "cell_type": "markdown",
      "metadata": {
        "id": "_df6ctqKq5Yq",
        "colab_type": "text"
      },
      "source": [
        "## Cevaplar"
      ]
    },
    {
      "cell_type": "code",
      "metadata": {
        "id": "saeSWjksq95q",
        "colab_type": "code",
        "colab": {
          "base_uri": "https://localhost:8080/",
          "height": 52
        },
        "outputId": "0bad9449-1afe-4d1d-c693-87fe419d3148"
      },
      "source": [
        "# a) Yemek ücretini tanımlayın.\n",
        "\n",
        "cost = 100\n",
        "tax = cost * 0.08\n",
        "tip = cost * 0.1\n",
        "total = cost + tax + tip\n",
        "\n",
        "\n",
        "\n",
        "print(\"Vergi \" + str(tax) + \" TL ve bahşiş \" + str(tip) + \" TL, toplam yemek ücreti \" + format(total, \".4f\") + \" TL\")\n",
        "\n",
        "\n",
        "print(\"Vergi \" + format(tax, \".2f\") + \" TL ve bahşiş \" + format(tip, \".2f\") + \" TL, toplam yemek ücreti \" + format(total, \".2f\") + \" TL\")\n"
      ],
      "execution_count": null,
      "outputs": [
        {
          "output_type": "stream",
          "text": [
            "Vergi 8.0 TL ve bahşiş 10.0 TL, toplam yemek ücreti 118.0000 TL\n",
            "Vergi 8.00 TL ve bahşiş 10.00 TL, toplam yemek ücreti 118.00 TL\n"
          ],
          "name": "stdout"
        }
      ]
    },
    {
      "cell_type": "code",
      "metadata": {
        "id": "ReTfINX2tE3P",
        "colab_type": "code",
        "colab": {
          "base_uri": "https://localhost:8080/",
          "height": 52
        },
        "outputId": "9abbc9fd-d336-41d9-d673-246bfc0f5828"
      },
      "source": [
        "#b) Yemek ücretini kullanıcıdan alın.\n",
        "\n",
        "cost = float(input(\"Lütfen yemek ücretini girin: \"))\n",
        "tax = cost * 0.08\n",
        "tip = cost * 0.1\n",
        "total = cost + tax + tip\n",
        "\n",
        "\n",
        "print(\"Vergi \" + str(tax) + \" TL ve bahşiş \" + str(tip) + \" TL, toplam yemek ücreti \" + format(total, \".2f\") + \" TL\")"
      ],
      "execution_count": null,
      "outputs": [
        {
          "output_type": "stream",
          "text": [
            "Lütfen yemek ücretini girin: 68.00\n",
            "Vergi 5.44 TL ve bahşiş 6.800000000000001 TL, toplam yemek ücreti 80.24 TL\n"
          ],
          "name": "stdout"
        }
      ]
    },
    {
      "cell_type": "code",
      "metadata": {
        "id": "iZzjbEFVRMnc",
        "colab_type": "code",
        "colab": {}
      },
      "source": [
        ""
      ],
      "execution_count": null,
      "outputs": []
    }
  ]
}