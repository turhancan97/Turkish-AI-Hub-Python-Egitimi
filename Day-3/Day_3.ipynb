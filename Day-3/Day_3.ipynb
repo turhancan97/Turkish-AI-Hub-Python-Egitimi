{
  "nbformat": 4,
  "nbformat_minor": 0,
  "metadata": {
    "colab": {
      "name": "Day_3.ipynb",
      "provenance": [],
      "collapsed_sections": [
        "Po9n8VAwAimY"
      ]
    },
    "kernelspec": {
      "name": "python3",
      "display_name": "Python 3"
    }
  },
  "cells": [
    {
      "cell_type": "markdown",
      "metadata": {
        "id": "2BfTgNJxj4l_",
        "colab_type": "text"
      },
      "source": [
        "# Koşullu Durumlar \n",
        "\n",
        "if \"koşul\":\n",
        "\n",
        "\n",
        "> \"birşey yap\"  <koşul doğru ise çalışacak durumlar>\n",
        "\n",
        "\n",
        "print()"
      ]
    },
    {
      "cell_type": "code",
      "metadata": {
        "id": "LXqRwY8TkEt4",
        "colab_type": "code",
        "colab": {
          "base_uri": "https://localhost:8080/",
          "height": 53
        },
        "outputId": "494e0190-ed92-49dd-a22c-eabd91272b49"
      },
      "source": [
        "sayi = int(input(\"Bir sayı giriniz: \"))\n",
        "\n",
        "if sayi < 0:  \n",
        "  sayi *= -1  #sayi = sayi*-1\n",
        "print(\"Sonuç: \", sayi)"
      ],
      "execution_count": 1,
      "outputs": [
        {
          "output_type": "stream",
          "text": [
            "Bir sayı giriniz: -17\n",
            "Sonuç:  17\n"
          ],
          "name": "stdout"
        }
      ]
    },
    {
      "cell_type": "markdown",
      "metadata": {
        "id": "kBKf25lKyDbS",
        "colab_type": "text"
      },
      "source": [
        "#If-Else\n",
        "\n",
        "if \"koşul\":\n",
        "\n",
        "\n",
        "> \"birşey yap\" <koşul doğru ise çalışacak durumlar>\n",
        "\n",
        "else:\n",
        "\n",
        "\n",
        "\n",
        "> \"başka birşey yap\" <koşul doğru değilse çalışacak durumlar>\n",
        "\n",
        "\n",
        "\n",
        "print()"
      ]
    },
    {
      "cell_type": "code",
      "metadata": {
        "id": "uero0zQKmGKt",
        "colab_type": "code",
        "colab": {
          "base_uri": "https://localhost:8080/",
          "height": 53
        },
        "outputId": "3177a00c-0e4c-4f10-ce07-48c43ff81863"
      },
      "source": [
        "course = \"python\"\n",
        "\n",
        "s = input(\"Lütfen bir harf giriniz: \")\n",
        "\n",
        "if s.upper() in course.upper():\n",
        "  print(\"Mevcut!\")\n",
        "else:\n",
        "  print(\"Yok...\")"
      ],
      "execution_count": 6,
      "outputs": [
        {
          "output_type": "stream",
          "text": [
            "Lütfen bir harf giriniz: Y\n",
            "Mevcut!\n"
          ],
          "name": "stdout"
        }
      ]
    },
    {
      "cell_type": "markdown",
      "metadata": {
        "id": "2sRlaG6I4h-Y",
        "colab_type": "text"
      },
      "source": [
        "#If-Elif-Else\n",
        "\n",
        "if \"koşul\":\n",
        "\n",
        "\n",
        "> \"birşey yap\"  <koşul doğru ise çalışacak durumlar>\n",
        "\n",
        "elif \"koşul2\":\n",
        "\n",
        "\n",
        "\n",
        "> \"başka birşey yap\"  <koşul doğru ise çalışacak durumlar>\n",
        "\n",
        "elif \"koşul3\":\n",
        "\n",
        "\n",
        "\n",
        "> \"başka birşey yap\" <koşul doğru ise çalışacak durumlar>\n",
        "\n",
        "\n",
        "\n",
        "\n",
        "\n",
        "else:\n",
        "\n",
        "\n",
        "\n",
        "> \"farklı birşey yap\" <yukarıdaki koşullar doğru değilse çalışacak durumlar>\n",
        "\n",
        "\n",
        "\n",
        "print()"
      ]
    },
    {
      "cell_type": "code",
      "metadata": {
        "id": "5W8MNavM8OCF",
        "colab_type": "code",
        "colab": {}
      },
      "source": [
        ""
      ],
      "execution_count": null,
      "outputs": []
    },
    {
      "cell_type": "code",
      "metadata": {
        "id": "rLCMo9Kuxe4Y",
        "colab_type": "code",
        "colab": {
          "base_uri": "https://localhost:8080/",
          "height": 53
        },
        "outputId": "ef647be7-9806-4a15-d761-3ed500015d44"
      },
      "source": [
        "score = int(input(\"Lütfen sınav puanınızı giriniz: \"))\n",
        "\n",
        "if score <= 40:\n",
        "  print(\"Kötü, çok çalışmalısın..\")\n",
        "elif score <= 60:\n",
        "  print(\"Orta, biraz daha çalışmalısın.\")\n",
        "elif score <= 100:\n",
        "  print(\"Tebrikler, iyi bir not aldın!\")\n",
        "else:\n",
        "  print(\"Geçersiz ifade girdiniz!!!\")\n",
        "\n"
      ],
      "execution_count": 10,
      "outputs": [
        {
          "output_type": "stream",
          "text": [
            "Lütfen sınav puanınızı giriniz: 55\n",
            "Orta, biraz daha çalışmalısın.\n"
          ],
          "name": "stdout"
        }
      ]
    },
    {
      "cell_type": "code",
      "metadata": {
        "id": "O0r1rOWX8-F6",
        "colab_type": "code",
        "colab": {
          "base_uri": "https://localhost:8080/",
          "height": 35
        },
        "outputId": "336cae50-7a64-461e-f032-4d632252c4ce"
      },
      "source": [
        "x = 5\n",
        "\n",
        "if x < 4:\n",
        "  x+=1 #x=6\n",
        "elif x >= 5:\n",
        "  x+=2 #x=7\n",
        "elif x >= 7:\n",
        "  x+=3\n",
        "\n",
        "print (\"x in değeri, \", x)"
      ],
      "execution_count": 12,
      "outputs": [
        {
          "output_type": "stream",
          "text": [
            "x in değeri,  7\n"
          ],
          "name": "stdout"
        }
      ]
    },
    {
      "cell_type": "code",
      "metadata": {
        "id": "d_JbM3Yz-Mxq",
        "colab_type": "code",
        "colab": {
          "base_uri": "https://localhost:8080/",
          "height": 35
        },
        "outputId": "6fd1ec1c-0dd9-40e7-f73d-16355f52f3ff"
      },
      "source": [
        "x = 5\n",
        "\n",
        "if x > 4:\n",
        "  x = x+1 #x=6\n",
        "if x > 5:\n",
        "  x = x+2 #x=8\n",
        "if x > 7:\n",
        "  x = x+3 #x=11 \n",
        "\n",
        "print (\"x in değeri, \", x)"
      ],
      "execution_count": 13,
      "outputs": [
        {
          "output_type": "stream",
          "text": [
            "x in değeri,  11\n"
          ],
          "name": "stdout"
        }
      ]
    },
    {
      "cell_type": "markdown",
      "metadata": {
        "id": "gDwccPO2_c0R",
        "colab_type": "text"
      },
      "source": [
        "#Soru\n",
        "\n",
        "Bir şirkette, çalışanların maaşları aşağıdaki formül kullanılarak hesaplanarak aşamalı olarak artırılır:\n",
        "\n",
        "maaş = maaş + maaş x (artış yüzdesi)\n",
        "\n",
        "Artışlar, işçinin mevcut maaşına göre aşağıda belirtildiği gibi önceden tanımlanmıştır. Örneğin işçinin cari maaşı 1000 TL veya daha az ise maaşı% 15 artırılır.\n",
        "\n",
        "\n",
        "Aralık | Yüzdesi\n",
        "--- | ---\n",
        "0 < maaş ≤ 1000 | 15%\n",
        "1000 < maaş ≤ 2000 |10%\n",
        "2000 < maaş ≤ 3000| 5%\n",
        "3000 < maaş | 2.5%\n",
        "\n",
        "\n",
        "Kullanıcıdan maaşını girmesini isteyen bir program yazın. Ardından programınız, kullanıcının artan maaşını hesaplamalı ve yazdırmalıdır.\n",
        "\n",
        "Örnek Çıktılar:\n",
        "\n",
        "Lütfen mevcut maaşınızı girin: 1000\n",
        "\n",
        "Yeni maaşınız 1150.0.\n",
        "\n",
        "Lütfen mevcut maaşınızı girin: 2500\n",
        "\n",
        "Yeni maaşınız 2625.0."
      ]
    },
    {
      "cell_type": "markdown",
      "metadata": {
        "id": "Po9n8VAwAimY",
        "colab_type": "text"
      },
      "source": [
        "#Cevap"
      ]
    },
    {
      "cell_type": "markdown",
      "metadata": {
        "id": "ECbPU-yVAgwR",
        "colab_type": "text"
      },
      "source": [
        ""
      ]
    },
    {
      "cell_type": "code",
      "metadata": {
        "id": "uLq_XcOJDv4_",
        "colab_type": "code",
        "colab": {
          "base_uri": "https://localhost:8080/",
          "height": 52
        },
        "outputId": "5ca0a2d8-0259-476d-be9a-d60408e7d16d"
      },
      "source": [
        "maas = float(input(\"Lütfen mevcut maaşınızı giriniz: \"))\n",
        "\n",
        "if maas < 0:\n",
        "  print(\"Geçersiz değer\")\n",
        "else:\n",
        "\n",
        "  if 0 < maas <= 1000:\n",
        "    maas = maas + maas * 0.15\n",
        "  elif maas <= 2000:\n",
        "    maas = maas + maas * 0.1\n",
        "  elif maas <= 3000:\n",
        "    maas = maas + maas * 0.05\n",
        "  else:\n",
        "    maas = maas + maas * 0.025\n",
        "\n",
        "  print(\"Yeni maaşınız\", maas)"
      ],
      "execution_count": null,
      "outputs": [
        {
          "output_type": "stream",
          "text": [
            "Lütfen mevcut maaşınızı giriniz: 1000\n",
            "Yeni maaşınız 1150.0\n"
          ],
          "name": "stdout"
        }
      ]
    },
    {
      "cell_type": "markdown",
      "metadata": {
        "id": "alFtTZs0FyXs",
        "colab_type": "text"
      },
      "source": [
        "# While Döngü Yapısı\n",
        "\n",
        "Koşul başlangıcı\n",
        "\n",
        "while <koşul>:\n",
        "\n",
        "\n",
        "\n",
        "> <doğru ifade>\n",
        "\n",
        "> <doğru ifade>\n",
        "\n",
        "> koşul güncelleme\n",
        "\n",
        "\n",
        "Bir mantıksal şart mantıksal doğru değerine sahip olduğu sürece tekrarlanır. Döngünün sona ermesi için o şartın yanlış duruma gelmesi gerekir.Bunun için döngünün içinde değişkenler uygun şekilde güncellenir. \n",
        "\n",
        "\n",
        "\n",
        "  "
      ]
    },
    {
      "cell_type": "code",
      "metadata": {
        "id": "t2hN1ADgUKdI",
        "colab_type": "code",
        "colab": {
          "base_uri": "https://localhost:8080/",
          "height": 177
        },
        "outputId": "b3f24ea4-0247-41f9-c16f-cc86fdf380c6"
      },
      "source": [
        "sayi = 0\n",
        "\n",
        "while sayi < 9:\n",
        "  print(\"Sayının değeri:\", sayi)\n",
        "  sayi = sayi +1"
      ],
      "execution_count": null,
      "outputs": [
        {
          "output_type": "stream",
          "text": [
            "Sayının değeri: 0\n",
            "Sayının değeri: 1\n",
            "Sayının değeri: 2\n",
            "Sayının değeri: 3\n",
            "Sayının değeri: 4\n",
            "Sayının değeri: 5\n",
            "Sayının değeri: 6\n",
            "Sayının değeri: 7\n",
            "Sayının değeri: 8\n"
          ],
          "name": "stdout"
        }
      ]
    },
    {
      "cell_type": "code",
      "metadata": {
        "id": "YAM4s0m7ViEA",
        "colab_type": "code",
        "colab": {}
      },
      "source": [
        "sayi2 = 0\n",
        "\n",
        "while sayi2 != 9:\n",
        "  print(\"Sayının değeri:\", sayi2)\n",
        "  sayi2 +=2\n",
        "\n",
        "#sonsuz döngü, infinite loop"
      ],
      "execution_count": null,
      "outputs": []
    },
    {
      "cell_type": "code",
      "metadata": {
        "id": "2UmFwW5FWEkd",
        "colab_type": "code",
        "colab": {}
      },
      "source": [
        "sayi3 = int(input(\"Lütfen 1 ve 10 arasında bir sayı giriniz:\"))\n",
        "\n",
        "while sayi3 < 1 or sayi3 > 10 or sayi3==5:  \n",
        "  print(\"Doğru olmayan bir değer girdiniz!!!!\")\n",
        "  sayi3 = int(input(\"Lütfen 1 ve 10 arasında bir sayı giriniz:\"))\n",
        "print(\"Tebrikler...\") \n"
      ],
      "execution_count": null,
      "outputs": []
    },
    {
      "cell_type": "markdown",
      "metadata": {
        "id": "Wxh9hTfQaTXB",
        "colab_type": "text"
      },
      "source": [
        "##Bir listenin elemanlarını yazdıralım. "
      ]
    },
    {
      "cell_type": "code",
      "metadata": {
        "id": "tOoDBo33Y9O0",
        "colab_type": "code",
        "colab": {
          "base_uri": "https://localhost:8080/",
          "height": 124
        },
        "outputId": "1a3e0fc8-6f21-49ae-a3c6-69d23f69c019"
      },
      "source": [
        "t = [1,2,3,4,5,6]\n",
        "\n",
        "i = 0\n",
        "while (i < len(t)):\n",
        "  #i+=1\n",
        "  print(i, \". indexteki elemanı: \", t[i])\n",
        "  i+=1"
      ],
      "execution_count": null,
      "outputs": [
        {
          "output_type": "stream",
          "text": [
            "0 . indexteki elemanı:  1\n",
            "1 . indexteki elemanı:  2\n",
            "2 . indexteki elemanı:  3\n",
            "3 . indexteki elemanı:  4\n",
            "4 . indexteki elemanı:  5\n",
            "5 . indexteki elemanı:  6\n"
          ],
          "name": "stdout"
        }
      ]
    },
    {
      "cell_type": "code",
      "metadata": {
        "id": "pSN-AL8A62bc",
        "colab_type": "code",
        "colab": {
          "base_uri": "https://localhost:8080/",
          "height": 90
        },
        "outputId": "82f81570-3533-48f6-897c-67e4a47a013a"
      },
      "source": [
        "while True:\n",
        "  a = input(\"Bir değer giriniz: \")\n",
        "  if a == \"Exit\":\n",
        "    break"
      ],
      "execution_count": 18,
      "outputs": [
        {
          "output_type": "stream",
          "text": [
            "Bir değer giriniz: uışefgpaweulfyhrvbweqığobyrv weuıp roewopırvywehsglfds\n",
            "Bir değer giriniz: Fethi\n",
            "Bir değer giriniz: exit\n",
            "Bir değer giriniz: Exit\n"
          ],
          "name": "stdout"
        }
      ]
    },
    {
      "cell_type": "markdown",
      "metadata": {
        "id": "HytO2C2ib-vf",
        "colab_type": "text"
      },
      "source": [
        "# For Döngü Yapısı\n",
        "\n",
        "\n",
        "for <tekrarlayan değer> in <sıralı dizi>:\n",
        "\n",
        "\n",
        "\n",
        "> <doğru ifade>\n",
        "\n",
        "\n",
        "Liste gibi sıralı bir nesnedeki elemanları sırayla tek tek alır ve döngü içerisinde işler.\n",
        "\n",
        "\n"
      ]
    },
    {
      "cell_type": "code",
      "metadata": {
        "id": "BgahixcjcC_a",
        "colab_type": "code",
        "colab": {
          "base_uri": "https://localhost:8080/",
          "height": 72
        },
        "outputId": "28aaa5a8-cb63-4216-c509-373a1885e7f5"
      },
      "source": [
        "for f in [2,45,57]:\n",
        "  print(f)"
      ],
      "execution_count": 19,
      "outputs": [
        {
          "output_type": "stream",
          "text": [
            "2\n",
            "45\n",
            "57\n"
          ],
          "name": "stdout"
        }
      ]
    },
    {
      "cell_type": "code",
      "metadata": {
        "id": "qae4AQCarZlk",
        "colab_type": "code",
        "colab": {
          "base_uri": "https://localhost:8080/",
          "height": 35
        },
        "outputId": "9bdeef07-b721-425d-f7a0-53b718da8920"
      },
      "source": [
        "print(range(5))"
      ],
      "execution_count": 24,
      "outputs": [
        {
          "output_type": "stream",
          "text": [
            "range(0, 5)\n"
          ],
          "name": "stdout"
        }
      ]
    },
    {
      "cell_type": "code",
      "metadata": {
        "id": "kAgGCHoers-n",
        "colab_type": "code",
        "colab": {}
      },
      "source": [
        "0-1-2-3-4"
      ],
      "execution_count": null,
      "outputs": []
    },
    {
      "cell_type": "code",
      "metadata": {
        "id": "ZD6pp2A9cglb",
        "colab_type": "code",
        "colab": {
          "base_uri": "https://localhost:8080/",
          "height": 108
        },
        "outputId": "f6522cfc-2740-4963-f201-41e6c52f3dbe"
      },
      "source": [
        "for sayi in range(5):\n",
        "  print(sayi)"
      ],
      "execution_count": 23,
      "outputs": [
        {
          "output_type": "stream",
          "text": [
            "0\n",
            "1\n",
            "2\n",
            "3\n",
            "4\n"
          ],
          "name": "stdout"
        }
      ]
    },
    {
      "cell_type": "code",
      "metadata": {
        "id": "sSRS5oGOdr0t",
        "colab_type": "code",
        "colab": {}
      },
      "source": [
        "for karakter in \"Python Kursu\":\n",
        "  print(karakter)"
      ],
      "execution_count": null,
      "outputs": []
    },
    {
      "cell_type": "code",
      "metadata": {
        "id": "80L2IjhNskTQ",
        "colab_type": "code",
        "colab": {
          "base_uri": "https://localhost:8080/",
          "height": 35
        },
        "outputId": "5f52798c-75f6-4577-b77b-69fb599b4350"
      },
      "source": [
        "\"Python Kursu\".split()"
      ],
      "execution_count": 28,
      "outputs": [
        {
          "output_type": "execute_result",
          "data": {
            "text/plain": [
              "['Python', 'Kursu']"
            ]
          },
          "metadata": {
            "tags": []
          },
          "execution_count": 28
        }
      ]
    },
    {
      "cell_type": "code",
      "metadata": {
        "id": "c8G-3iFNkrH4",
        "colab_type": "code",
        "colab": {
          "base_uri": "https://localhost:8080/",
          "height": 52
        },
        "outputId": "d855e734-bbf0-46f7-c155-d0b54bd70ef4"
      },
      "source": [
        "for i in \"Python Kursu\".split():\n",
        "  print(i)"
      ],
      "execution_count": null,
      "outputs": [
        {
          "output_type": "stream",
          "text": [
            "Python\n",
            "Kursu\n"
          ],
          "name": "stdout"
        }
      ]
    },
    {
      "cell_type": "code",
      "metadata": {
        "id": "6Pvl_Pps6fbR",
        "colab_type": "code",
        "colab": {
          "base_uri": "https://localhost:8080/",
          "height": 106
        },
        "outputId": "3e4efa0a-e2db-45bc-8678-0f023d135a8a"
      },
      "source": [
        "for i in range(10):\n",
        "  if i == 5:    \n",
        "    break\n",
        "  print(i)"
      ],
      "execution_count": null,
      "outputs": [
        {
          "output_type": "stream",
          "text": [
            "0\n",
            "1\n",
            "2\n",
            "3\n",
            "4\n"
          ],
          "name": "stdout"
        }
      ]
    },
    {
      "cell_type": "code",
      "metadata": {
        "id": "vTRaCu7N6ife",
        "colab_type": "code",
        "colab": {
          "base_uri": "https://localhost:8080/",
          "height": 177
        },
        "outputId": "fed997ca-c6fc-4e8c-ba4d-9054a3bb9178"
      },
      "source": [
        "for i in range(10):\n",
        "  if i == 5:\n",
        "    continue\n",
        "  print(i)"
      ],
      "execution_count": null,
      "outputs": [
        {
          "output_type": "stream",
          "text": [
            "0\n",
            "1\n",
            "2\n",
            "3\n",
            "4\n",
            "6\n",
            "7\n",
            "8\n",
            "9\n"
          ],
          "name": "stdout"
        }
      ]
    },
    {
      "cell_type": "code",
      "metadata": {
        "id": "fZKEer8umXFk",
        "colab_type": "code",
        "colab": {
          "base_uri": "https://localhost:8080/",
          "height": 35
        },
        "outputId": "0a9437d1-7e2f-4381-9155-4331e06cefbf"
      },
      "source": [
        "sayilar = list(range(8))\n",
        "\n",
        "kareler = []\n",
        "for i in sayilar:\n",
        "  kareler.append(i**2)\n",
        "print(kareler)"
      ],
      "execution_count": 30,
      "outputs": [
        {
          "output_type": "stream",
          "text": [
            "[0, 1, 4, 9, 16, 25, 36, 49]\n"
          ],
          "name": "stdout"
        }
      ]
    },
    {
      "cell_type": "code",
      "metadata": {
        "id": "fnfkGpJanbCF",
        "colab_type": "code",
        "colab": {
          "base_uri": "https://localhost:8080/",
          "height": 35
        },
        "outputId": "100323fd-c93e-43ff-998f-c0211a8c8951"
      },
      "source": [
        "sayilar = list(range(8))\n",
        "#list comprehension\n",
        "kareler = [i**2 for i in sayilar]\n",
        "print(kareler)"
      ],
      "execution_count": 29,
      "outputs": [
        {
          "output_type": "stream",
          "text": [
            "[0, 1, 4, 9, 16, 25, 36, 49]\n"
          ],
          "name": "stdout"
        }
      ]
    },
    {
      "cell_type": "code",
      "metadata": {
        "id": "AGwJCh-xxm5p",
        "colab_type": "code",
        "colab": {
          "base_uri": "https://localhost:8080/",
          "height": 35
        },
        "outputId": "6d80edf8-0eef-4d48-b10e-e129741a2997"
      },
      "source": [
        "sayilardeneme=list(range(8))\n",
        "0-1-2-3-4-5-6-7\n",
        "cift_kareler_deneme=[]\n",
        "\"\"\"\n",
        "for sayi in sayilardeneme:\n",
        "  if sayi % 2 ==0:\n",
        "    cift_kareler_deneme.append(sayi**2)\n",
        "\"\"\"\n",
        "for sayi in sayilardeneme:\n",
        "  if sayi % 2 ==1:\n",
        "    continue\n",
        "  cift_kareler_deneme.append(sayi**2)\n",
        "print(cift_kareler_deneme)"
      ],
      "execution_count": 31,
      "outputs": [
        {
          "output_type": "stream",
          "text": [
            "[0, 4, 16, 36]\n"
          ],
          "name": "stdout"
        }
      ]
    },
    {
      "cell_type": "code",
      "metadata": {
        "id": "msKp56Y1ozOk",
        "colab_type": "code",
        "colab": {
          "base_uri": "https://localhost:8080/",
          "height": 53
        },
        "outputId": "eff4167b-3d7c-497e-e14c-271f00eb985f"
      },
      "source": [
        "sayilar = list(range(8))\n",
        "\n",
        "#[(yapılacak operasyon) (for döngüsü liste dönülecek) (if bir koşul var ise o koşul)]\n",
        "0-1-2-3-4-5-6-7\n",
        "cift_kareler = [i**2 for i in sayilar if i % 2 == 0]\n",
        "\n",
        "tek_küpler = [i**3 for i in sayilar if i % 2 == 1]\n",
        "\n",
        "print(cift_kareler)\n",
        "print(tek_küpler)"
      ],
      "execution_count": 32,
      "outputs": [
        {
          "output_type": "stream",
          "text": [
            "[0, 4, 16, 36]\n",
            "[1, 27, 125, 343]\n"
          ],
          "name": "stdout"
        }
      ]
    },
    {
      "cell_type": "code",
      "metadata": {
        "id": "BAIT9kSGrHTn",
        "colab_type": "code",
        "colab": {}
      },
      "source": [
        "mylist3 = [3,5,12,7,65,35,12]"
      ],
      "execution_count": 51,
      "outputs": []
    },
    {
      "cell_type": "code",
      "metadata": {
        "id": "T6aGyTKM0URj",
        "colab_type": "code",
        "colab": {}
      },
      "source": [
        "print(sum(mylist3))"
      ],
      "execution_count": null,
      "outputs": []
    },
    {
      "cell_type": "markdown",
      "metadata": {
        "id": "sNWHEuYTuGUk",
        "colab_type": "text"
      },
      "source": [
        "###Listenin en büyük elemanını bulma"
      ]
    },
    {
      "cell_type": "code",
      "metadata": {
        "id": "6MnAca4Ht13-",
        "colab_type": "code",
        "colab": {
          "base_uri": "https://localhost:8080/",
          "height": 54
        },
        "outputId": "1aa222c3-5078-41c5-84b3-2fa06ea5142d"
      },
      "source": [
        "mylist = [3,5,12,7,65,35]\n",
        "\n",
        "print(max(mylist))\n",
        "\n",
        "\"\"\"\n",
        "max = mylist[0]\n",
        "\n",
        "for i in mylist:\n",
        "  if i > max:\n",
        "    max = i\n",
        "print(max)\n",
        "\"\"\""
      ],
      "execution_count": 53,
      "outputs": [
        {
          "output_type": "stream",
          "text": [
            "65\n"
          ],
          "name": "stdout"
        },
        {
          "output_type": "execute_result",
          "data": {
            "application/vnd.google.colaboratory.intrinsic+json": {
              "type": "string"
            },
            "text/plain": [
              "'\\nmax = mylist[0]\\n\\nfor i in mylist:\\n  if i > max:\\n    max = i\\nprint(max)\\n'"
            ]
          },
          "metadata": {
            "tags": []
          },
          "execution_count": 53
        }
      ]
    },
    {
      "cell_type": "markdown",
      "metadata": {
        "id": "RzvtIqRPwMjJ",
        "colab_type": "text"
      },
      "source": [
        "###Liste elemanlarını toplama"
      ]
    },
    {
      "cell_type": "code",
      "metadata": {
        "id": "SkyZxq07vZcv",
        "colab_type": "code",
        "colab": {}
      },
      "source": [
        "list1 = [1,2,3]\n",
        "list2 = [4,5,6]\n",
        "\n",
        "\"\"\"\n",
        "list3=list1+list2\n",
        "print(list3)\n",
        "\n",
        "list3=zip(list1,list2)\n",
        "print(list(list3))\n",
        "\n",
        "\"\"\"\n",
        "\"\"\"\n",
        "list3 = [a + b \n",
        "         for a,b in zip(list1,list2)]\n",
        "\n",
        "print(list3)\n",
        "\"\"\"\n",
        "\n",
        "list1=[2,3,4]\n",
        "list2=[5,6]\n",
        "\n",
        "print(sum(list1+list2))\n",
        "\"\"\"\n",
        "list3=zip(list1,list2)\n",
        "print(list(list3))\n",
        "\"\"\""
      ],
      "execution_count": null,
      "outputs": []
    },
    {
      "cell_type": "markdown",
      "metadata": {
        "id": "KDoimRfIHeKc",
        "colab_type": "text"
      },
      "source": [
        "##Soru\n",
        "\n",
        "Kullanıcıdan bir tamsayı değeri (stop_number) giren ve 0'dan stop_number'a kadar tüm sayıların toplamını yazdıran bir program yazın. Kullanıcının geçerli bir değer gireceğini varsayabilirsiniz."
      ]
    },
    {
      "cell_type": "markdown",
      "metadata": {
        "id": "iF9iRGVRHzZ3",
        "colab_type": "text"
      },
      "source": [
        "##Cevap"
      ]
    },
    {
      "cell_type": "code",
      "metadata": {
        "id": "oz0YvBT4wQQv",
        "colab_type": "code",
        "colab": {}
      },
      "source": [
        "sayi=int(input(\"Sayi gir: \"))\n",
        "\n",
        "print(sum(list(range(sayi+1)))) #sayının da listede olmasını istiyoruz\n"
      ],
      "execution_count": null,
      "outputs": []
    },
    {
      "cell_type": "markdown",
      "metadata": {
        "id": "n3r7-MzJIQaF",
        "colab_type": "text"
      },
      "source": [
        "##Soru\n",
        "\n",
        "Programınızı, toplanacak sayıların başlangıç değerini de (start_number) girecek şekilde genişletin. Bu durumda, programınız start_number dan stop_number a kadar tüm sayıları toplayacaktır. Kullanıcının iki geçerli değer gireceğini varsayabilirsiniz."
      ]
    },
    {
      "cell_type": "markdown",
      "metadata": {
        "id": "Aum8NWmkJeF8",
        "colab_type": "text"
      },
      "source": [
        "##Cevap"
      ]
    },
    {
      "cell_type": "code",
      "metadata": {
        "id": "wyf3bHGlIl5q",
        "colab_type": "code",
        "colab": {}
      },
      "source": [
        "baslangicDegeri=int(input(\"Başlangıç değeri girin: \"))\n",
        "bitisDegeri=int(input(\"Bitiş değeri girin: \"))\n",
        "\n",
        "print(sum(list(range(baslangicDegeri,bitisDegeri+1))))"
      ],
      "execution_count": null,
      "outputs": []
    },
    {
      "cell_type": "markdown",
      "metadata": {
        "id": "5iu8rZn5JLEh",
        "colab_type": "text"
      },
      "source": [
        "##Soru\n",
        "\n",
        "Programınızı, start_number ı 0 ile 100 arasında bir tamsayı olup olmadığını kontrol edecek şekilde genişletin. Eğer öyleyse, programınız ikinci girdiyi sormaya ve hesaplamaları yapmaya devam edecektir; aksi takdirde, bir hata yazdırır ve yürütmeyi durdurur."
      ]
    },
    {
      "cell_type": "markdown",
      "metadata": {
        "id": "L5XVRV4DJhQA",
        "colab_type": "text"
      },
      "source": [
        "##Cevap"
      ]
    },
    {
      "cell_type": "code",
      "metadata": {
        "id": "pbsMWzp_Jb56",
        "colab_type": "code",
        "colab": {}
      },
      "source": [
        "baslangicDegeri=int(input(\"Başlangıç değerini girin: \"))\n",
        "while baslangicDegeri<0 or baslangicDegeri>100:\n",
        "  baslangicDegeri=int(input(\"Başlangıç değerini girin: \"))\n",
        "\n",
        "bitisDegeri=int(input(\"Bitiş değerini girin: \"))\n",
        "\n",
        "print(sum(list(range(baslangicDegeri,bitisDegeri+1))))"
      ],
      "execution_count": null,
      "outputs": []
    },
    {
      "cell_type": "code",
      "metadata": {
        "id": "x4YIpHSM6Xwp",
        "colab_type": "code",
        "colab": {
          "base_uri": "https://localhost:8080/",
          "height": 35
        },
        "outputId": "c48e8443-bee3-4e9c-ea4f-4fb0b17d56c6"
      },
      "source": [
        "list(range(5))"
      ],
      "execution_count": 61,
      "outputs": [
        {
          "output_type": "execute_result",
          "data": {
            "text/plain": [
              "[0, 1, 2, 3, 4]"
            ]
          },
          "metadata": {
            "tags": []
          },
          "execution_count": 61
        }
      ]
    },
    {
      "cell_type": "code",
      "metadata": {
        "id": "rQHUwEPY6gw0",
        "colab_type": "code",
        "colab": {}
      },
      "source": [
        "array1=[32,25,45,65,76]\n",
        "for(index=0 ; index<5 ; index++) \n",
        "{\n",
        "    eleman=array1[index]\n",
        "}"
      ],
      "execution_count": null,
      "outputs": []
    },
    {
      "cell_type": "code",
      "metadata": {
        "id": "ttIhXB8y64Jr",
        "colab_type": "code",
        "colab": {}
      },
      "source": [
        "for eleman in array1:\n",
        "  eleman"
      ],
      "execution_count": null,
      "outputs": []
    },
    {
      "cell_type": "code",
      "metadata": {
        "id": "vV38ptxv6grz",
        "colab_type": "code",
        "colab": {}
      },
      "source": [
        ""
      ],
      "execution_count": null,
      "outputs": []
    }
  ]
}