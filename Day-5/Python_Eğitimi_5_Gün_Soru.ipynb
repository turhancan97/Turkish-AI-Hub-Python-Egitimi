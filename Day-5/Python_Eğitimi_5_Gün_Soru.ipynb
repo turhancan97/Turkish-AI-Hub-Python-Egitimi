{
  "nbformat": 4,
  "nbformat_minor": 0,
  "metadata": {
    "colab": {
      "name": "Python Eğitimi 5.Gün Soru.ipynb",
      "provenance": [],
      "collapsed_sections": []
    },
    "kernelspec": {
      "name": "python3",
      "display_name": "Python 3"
    }
  },
  "cells": [
    {
      "cell_type": "markdown",
      "metadata": {
        "id": "j00kbB-3L9ch",
        "colab_type": "text"
      },
      "source": [
        "##Ödev\n",
        "\n",
        "Verilen bir pozitif sayı için bu sayı ve bu sayıya kadar olan değerler içinde kaç adet 2 rakamı bulunduğunu hesaplayan fonksiyonu yazınız.\n",
        "\n",
        "Örnek çıktı:\n",
        "\n",
        "15 değeri için cevap 2'dir (2, 12 --> toplamda 2 adet 2 rakamı var.) \n",
        "\n",
        "23 değeri için cevap 7 (2, 12, 20, 21, 22, 23 --> toplamda 7 adet 2 rakamı var.)"
      ]
    },
    {
      "cell_type": "code",
      "metadata": {
        "id": "acdWfr6YixOn",
        "colab_type": "code",
        "colab": {}
      },
      "source": [
        "def iki(x):\n",
        "  res=0\n",
        "  while x:\n",
        "    if x%10==2:\n",
        "      res+=1\n",
        "    x//=10\n",
        "  return res\n",
        "res=0\n",
        "x=int(input())\n",
        "for i in range(x+1):\n",
        "  res+=iki(i)\n",
        "\n",
        "print(res)"
      ],
      "execution_count": null,
      "outputs": []
    }
  ]
}