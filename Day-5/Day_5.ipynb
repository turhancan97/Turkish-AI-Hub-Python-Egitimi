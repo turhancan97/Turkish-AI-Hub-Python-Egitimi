{
  "nbformat": 4,
  "nbformat_minor": 0,
  "metadata": {
    "colab": {
      "name": "Day-5.ipynb",
      "provenance": [],
      "collapsed_sections": []
    },
    "kernelspec": {
      "name": "python3",
      "display_name": "Python 3"
    }
  },
  "cells": [
    {
      "cell_type": "markdown",
      "metadata": {
        "id": "6vddxASQcwOx",
        "colab_type": "text"
      },
      "source": [
        "# Fonksiyonlar\n",
        "\n",
        "Fonksiyonlar, belli bir eylemi gerçekleştirmek için ilgili işlevleri yapabilen ve tekrar tekrar kullanılabilir kod bloklarıdır.\n",
        "\n",
        "Bildiğimiz üzere, Python'ın içinde print (), len () vb. gibi birçok mevcut fonksiyon tanımlıdır.\n",
        "\n",
        "Kütüphanelerde, modüllerde, paketlerde tanımlanan fonksiyonlara da erişim sağlayarak kendi kodumuzda kullanabiliriz. Bunlara önceden tanımlanmış fonksiyonlar (pre-defined), gömülü fonksiyonlar (built-in) ya da kütüphane fonksiyonları denir. Hazır fonksiyonları kullanabileceğimiz gibi kendi fonksiyonlarımızı da oluşturabiliriz.(user-defined)\n",
        "\n",
        "\n",
        "Fonksiyonlar kod tekrarını engeller ve kodlarımız daha modüler, düzenli durur.\n",
        "\n",
        "\n",
        "*****\n",
        "\n",
        "def \"fonksiyon_adı\"(parametre1,parametre2,..):\n",
        "\n",
        "\n",
        "> \"Birşey yap\"\n",
        "\n",
        "  return \"birşey döndür\"  (fonksiyon işlevine göre değişir, zorunlu değil) \n",
        "\n",
        "\n"
      ]
    },
    {
      "cell_type": "code",
      "metadata": {
        "id": "xmv4r_jCboXC",
        "colab_type": "code",
        "colab": {}
      },
      "source": [
        "def merhaba():\n",
        "  print(\"Herkese Merhaba!!\")"
      ],
      "execution_count": 206,
      "outputs": []
    },
    {
      "cell_type": "code",
      "metadata": {
        "id": "9WyymUQqgSBQ",
        "colab_type": "code",
        "colab": {
          "base_uri": "https://localhost:8080/",
          "height": 35
        },
        "outputId": "393f740e-5ad3-4db1-c41d-ec1ac3d00b5a"
      },
      "source": [
        "merhaba()   #fonksiyonu çağırma   #parametre almayan fonksiyonlar"
      ],
      "execution_count": 207,
      "outputs": [
        {
          "output_type": "stream",
          "text": [
            "Herkese Merhaba!!\n"
          ],
          "name": "stdout"
        }
      ]
    },
    {
      "cell_type": "code",
      "metadata": {
        "id": "0mNT-X0DoP7y",
        "colab_type": "code",
        "colab": {}
      },
      "source": [
        "def merhaba(isim):\n",
        "  print(\"Merhaba \" + isim)\n",
        "\n"
      ],
      "execution_count": 208,
      "outputs": []
    },
    {
      "cell_type": "code",
      "metadata": {
        "id": "DxZKzFIuoW08",
        "colab_type": "code",
        "colab": {
          "base_uri": "https://localhost:8080/",
          "height": 35
        },
        "outputId": "52216fa3-d79e-4f74-f12d-6b28bb306611"
      },
      "source": [
        "merhaba(\"Asli\")"
      ],
      "execution_count": 209,
      "outputs": [
        {
          "output_type": "stream",
          "text": [
            "Merhaba Asli\n"
          ],
          "name": "stdout"
        }
      ]
    },
    {
      "cell_type": "code",
      "metadata": {
        "id": "3AoI1i0igZC7",
        "colab_type": "code",
        "colab": {
          "base_uri": "https://localhost:8080/",
          "height": 70
        },
        "outputId": "96d5c07a-fb7e-4965-b107-d7e3419b4e3d"
      },
      "source": [
        "def func1():\n",
        "  print(\"Hello World!!\")\n",
        "\n",
        "\n",
        "func1()\n",
        "print(\"asdasd\")\n",
        "func1()"
      ],
      "execution_count": 210,
      "outputs": [
        {
          "output_type": "stream",
          "text": [
            "Hello World!!\n",
            "asdasd\n",
            "Hello World!!\n"
          ],
          "name": "stdout"
        }
      ]
    },
    {
      "cell_type": "code",
      "metadata": {
        "id": "iiSPTWt3hJHo",
        "colab_type": "code",
        "colab": {}
      },
      "source": [
        "def toplam(a,b):\n",
        "  sum = a + b\n",
        "  print(sum)\n",
        "\n"
      ],
      "execution_count": 221,
      "outputs": []
    },
    {
      "cell_type": "code",
      "metadata": {
        "id": "WNgM1TR4haRG",
        "colab_type": "code",
        "colab": {
          "base_uri": "https://localhost:8080/",
          "height": 35
        },
        "outputId": "33e2b98f-1e2e-41a8-d388-6f485c3362e1"
      },
      "source": [
        "toplam(6,7)"
      ],
      "execution_count": 222,
      "outputs": [
        {
          "output_type": "stream",
          "text": [
            "13\n"
          ],
          "name": "stdout"
        }
      ]
    },
    {
      "cell_type": "code",
      "metadata": {
        "id": "MfnQx9FFhd5H",
        "colab_type": "code",
        "colab": {
          "base_uri": "https://localhost:8080/",
          "height": 52
        },
        "outputId": "ef0339f9-f195-40fb-cad8-a3c231726c26"
      },
      "source": [
        "t = toplam(8,9)\n",
        "print(t)"
      ],
      "execution_count": 223,
      "outputs": [
        {
          "output_type": "stream",
          "text": [
            "17\n",
            "None\n"
          ],
          "name": "stdout"
        }
      ]
    },
    {
      "cell_type": "code",
      "metadata": {
        "id": "NiymGvuihkZ2",
        "colab_type": "code",
        "colab": {}
      },
      "source": [
        "def func(x,y):\n",
        "  toplam = x + y\n",
        "  carpim = x * y\n",
        "  return (toplam,carpim)\n",
        "\n",
        "\n"
      ],
      "execution_count": 224,
      "outputs": []
    },
    {
      "cell_type": "code",
      "metadata": {
        "id": "SbtW4TLdh7Pp",
        "colab_type": "code",
        "colab": {
          "base_uri": "https://localhost:8080/",
          "height": 35
        },
        "outputId": "b2dd6bb7-6769-4d82-96ee-d622de955917"
      },
      "source": [
        "t,c = func(23,45)\n",
        "\n",
        "print(t,c)"
      ],
      "execution_count": 225,
      "outputs": [
        {
          "output_type": "stream",
          "text": [
            "68 1035\n"
          ],
          "name": "stdout"
        }
      ]
    },
    {
      "cell_type": "code",
      "metadata": {
        "id": "Nca_Rpf9iC-x",
        "colab_type": "code",
        "colab": {
          "base_uri": "https://localhost:8080/",
          "height": 35
        },
        "outputId": "181e9e62-1d11-4a17-feb5-647cd3dd649c"
      },
      "source": [
        "print(\"Değerlerin toplamı: \" + str(t) + \", Değerlerin çarpımı: \" + str(c))"
      ],
      "execution_count": 226,
      "outputs": [
        {
          "output_type": "stream",
          "text": [
            "Değerlerin toplamı: 68, Değerlerin çarpımı: 1035\n"
          ],
          "name": "stdout"
        }
      ]
    },
    {
      "cell_type": "code",
      "metadata": {
        "id": "5IS0ARTJiPY1",
        "colab_type": "code",
        "colab": {}
      },
      "source": [
        "# Bir fonksiyon yazalım, girilen sayının karesini alsın ama 5 rakamı girince de sonlandırsın ve bize hata mesajı versin.\n",
        "\n",
        "\n",
        "\n",
        "def kare(x):\n",
        "  if x == 5:\n",
        "    return (\"5 girdiğiniz için fonksiyon sonlandırıldı\")\n",
        "\n",
        "  sonuc = x **2\n",
        "  return (sonuc)\n"
      ],
      "execution_count": 227,
      "outputs": []
    },
    {
      "cell_type": "code",
      "metadata": {
        "id": "w0Am5qkekKNH",
        "colab_type": "code",
        "colab": {
          "base_uri": "https://localhost:8080/",
          "height": 35
        },
        "outputId": "3a1be730-2c76-47b4-a44f-87f746392359"
      },
      "source": [
        "kare(10)"
      ],
      "execution_count": 228,
      "outputs": [
        {
          "output_type": "execute_result",
          "data": {
            "text/plain": [
              "100"
            ]
          },
          "metadata": {
            "tags": []
          },
          "execution_count": 228
        }
      ]
    },
    {
      "cell_type": "code",
      "metadata": {
        "id": "-A1MrkLDkMju",
        "colab_type": "code",
        "colab": {
          "base_uri": "https://localhost:8080/",
          "height": 36
        },
        "outputId": "97f2755e-865a-4f67-fee7-510fa3ec908a"
      },
      "source": [
        "kare(5)"
      ],
      "execution_count": 229,
      "outputs": [
        {
          "output_type": "execute_result",
          "data": {
            "application/vnd.google.colaboratory.intrinsic+json": {
              "type": "string"
            },
            "text/plain": [
              "'5 girdiğiniz için fonksiyon sonlandırıldı'"
            ]
          },
          "metadata": {
            "tags": []
          },
          "execution_count": 229
        }
      ]
    },
    {
      "cell_type": "code",
      "metadata": {
        "id": "gsu2kbuJnKmx",
        "colab_type": "code",
        "colab": {
          "base_uri": "https://localhost:8080/",
          "height": 35
        },
        "outputId": "4d31b7ef-8fdd-4167-c08f-7a4cc16761bf"
      },
      "source": [
        "d = kare(5)\n",
        "print(d)"
      ],
      "execution_count": 230,
      "outputs": [
        {
          "output_type": "stream",
          "text": [
            "5 girdiğiniz için fonksiyon sonlandırıldı\n"
          ],
          "name": "stdout"
        }
      ]
    },
    {
      "cell_type": "code",
      "metadata": {
        "id": "ewtG6xuRkQsy",
        "colab_type": "code",
        "colab": {}
      },
      "source": [
        "# girilen sayının pozitif negatif ya da sıfır olduğunu söyleyen bir fonksiyon yazalım.\n",
        "\n",
        "\n",
        "\n",
        "def func(x):\n",
        "  if x > 0:\n",
        "    return (\"Pozitif\")\n",
        "  elif x < 0:\n",
        "    return (\"Negatif\")\n",
        "  else:\n",
        "    return (\"Sıfır\")\n",
        "\n"
      ],
      "execution_count": 231,
      "outputs": []
    },
    {
      "cell_type": "code",
      "metadata": {
        "id": "UQ3T_8UTlJ8u",
        "colab_type": "code",
        "colab": {
          "base_uri": "https://localhost:8080/",
          "height": 124
        },
        "outputId": "e3b4ba41-487e-44a0-c80e-b6eb57be0c39"
      },
      "source": [
        "for i in [-2,5,6,0,-4,-7]:\n",
        "  print(func(i))"
      ],
      "execution_count": 232,
      "outputs": [
        {
          "output_type": "stream",
          "text": [
            "Negatif\n",
            "Pozitif\n",
            "Pozitif\n",
            "Sıfır\n",
            "Negatif\n",
            "Negatif\n"
          ],
          "name": "stdout"
        }
      ]
    },
    {
      "cell_type": "code",
      "metadata": {
        "id": "_gih-r9xlZBr",
        "colab_type": "code",
        "colab": {}
      },
      "source": [
        "# faktöriyel hesabı yapan fonksiyonu yazalım.\n",
        "\n",
        "\n",
        "\n",
        "def faktoriyel(sayi):\n",
        "  faktoriyel = 1\n",
        "  if (sayi == 0 or sayi == 1):\n",
        "    print(\"Faktoriyel: \", faktoriyel)\n",
        "  else:\n",
        "    while (sayi >= 1):\n",
        "      faktoriyel *= sayi\n",
        "      sayi -= 1\n",
        "    print(\"Faktoriyel: \", faktoriyel)\n",
        "\n",
        "\n"
      ],
      "execution_count": 233,
      "outputs": []
    },
    {
      "cell_type": "code",
      "metadata": {
        "id": "T5ykiNt_yeck",
        "colab_type": "code",
        "colab": {
          "base_uri": "https://localhost:8080/",
          "height": 35
        },
        "outputId": "3f42657d-a97d-4011-b166-369c27dba3f3"
      },
      "source": [
        "faktoriyel(5)"
      ],
      "execution_count": 234,
      "outputs": [
        {
          "output_type": "stream",
          "text": [
            "Faktoriyel:  120\n"
          ],
          "name": "stdout"
        }
      ]
    },
    {
      "cell_type": "code",
      "metadata": {
        "id": "OQBMccOwyhl9",
        "colab_type": "code",
        "colab": {}
      },
      "source": [
        "#for ile yazalım\n",
        "\n",
        "def faktoriyel2(sayi):\n",
        "  faktoriyel = 1\n",
        "  if (sayi == 0 or sayi == 1):\n",
        "    print(\"Faktoriyel: \", faktoriyel)\n",
        "  else:\n",
        "    for i in range(faktoriyel, sayi+1):\n",
        "       faktoriyel *= i      \n",
        "    print(\"Faktoriyel: \", faktoriyel)\n"
      ],
      "execution_count": 235,
      "outputs": []
    },
    {
      "cell_type": "code",
      "metadata": {
        "id": "3e4oPm5yy3Co",
        "colab_type": "code",
        "colab": {
          "base_uri": "https://localhost:8080/",
          "height": 35
        },
        "outputId": "caa24692-71c6-41f3-ec1d-b740897fe912"
      },
      "source": [
        "faktoriyel2(6)"
      ],
      "execution_count": 236,
      "outputs": [
        {
          "output_type": "stream",
          "text": [
            "Faktoriyel:  720\n"
          ],
          "name": "stdout"
        }
      ]
    },
    {
      "cell_type": "code",
      "metadata": {
        "id": "-b8t6CgSl3Yu",
        "colab_type": "code",
        "colab": {
          "base_uri": "https://localhost:8080/",
          "height": 52
        },
        "outputId": "3585bd52-b3d2-42ce-bf4e-14478007adaf"
      },
      "source": [
        "x = faktoriyel2(6)\n",
        "print(x)"
      ],
      "execution_count": 237,
      "outputs": [
        {
          "output_type": "stream",
          "text": [
            "Faktoriyel:  720\n",
            "None\n"
          ],
          "name": "stdout"
        }
      ]
    },
    {
      "cell_type": "code",
      "metadata": {
        "id": "blFFawxml7wW",
        "colab_type": "code",
        "colab": {}
      },
      "source": [
        "def faktoriyel3(sayi):\n",
        "  faktoriyel = 1\n",
        "  if (sayi == 0 or sayi == 1):\n",
        "    return (\"Faktoriyel: \", faktoriyel)\n",
        "  else:\n",
        "    for i in range(faktoriyel, sayi+1):\n",
        "       faktoriyel *= i      \n",
        "    return (\"Faktoriyel: \", faktoriyel)"
      ],
      "execution_count": 238,
      "outputs": []
    },
    {
      "cell_type": "code",
      "metadata": {
        "id": "HVWS7rb9mAIf",
        "colab_type": "code",
        "colab": {
          "base_uri": "https://localhost:8080/",
          "height": 35
        },
        "outputId": "43908016-2316-4410-a867-beedf69718e2"
      },
      "source": [
        "x = faktoriyel3(6)\n",
        "print(x)"
      ],
      "execution_count": 239,
      "outputs": [
        {
          "output_type": "stream",
          "text": [
            "('Faktoriyel: ', 720)\n"
          ],
          "name": "stdout"
        }
      ]
    },
    {
      "cell_type": "code",
      "metadata": {
        "id": "HIUms-AlzQu9",
        "colab_type": "code",
        "colab": {}
      },
      "source": [
        "# boolean değişkenli bir büyük harf küçük harf çıktısı veren fonksiyon yazalım.\n",
        "\n",
        "\n",
        "def merhaba2(isim, buyukHarf = False):\n",
        "  if buyukHarf:\n",
        "    print(\"Merhaba \" + isim.upper())\n",
        "  else:\n",
        "    print(\"Merhaba \" + isim)"
      ],
      "execution_count": 240,
      "outputs": []
    },
    {
      "cell_type": "code",
      "metadata": {
        "id": "DkHm9Vtw0O4M",
        "colab_type": "code",
        "colab": {
          "base_uri": "https://localhost:8080/",
          "height": 35
        },
        "outputId": "e6e68c64-2e10-4782-ade7-f086ef2afa22"
      },
      "source": [
        "merhaba2(\"Asli\")"
      ],
      "execution_count": 241,
      "outputs": [
        {
          "output_type": "stream",
          "text": [
            "Merhaba Asli\n"
          ],
          "name": "stdout"
        }
      ]
    },
    {
      "cell_type": "code",
      "metadata": {
        "id": "dYyDrfTn0TOS",
        "colab_type": "code",
        "colab": {
          "base_uri": "https://localhost:8080/",
          "height": 35
        },
        "outputId": "25c498ba-69df-44e2-cf4b-b41aafb95bb6"
      },
      "source": [
        "merhaba2(\"Asli\", buyukHarf= True)"
      ],
      "execution_count": 242,
      "outputs": [
        {
          "output_type": "stream",
          "text": [
            "Merhaba ASLI\n"
          ],
          "name": "stdout"
        }
      ]
    },
    {
      "cell_type": "code",
      "metadata": {
        "id": "AzJDy8xD1Rbm",
        "colab_type": "code",
        "colab": {}
      },
      "source": [
        "def carp(*args):\n",
        "  sonuc = 1\n",
        "  for i in args:\n",
        "    sonuc *= i\n",
        "  print(sonuc) \n",
        "\n",
        "\n",
        "# *args ifade demet tipli veri tutar."
      ],
      "execution_count": 243,
      "outputs": []
    },
    {
      "cell_type": "code",
      "metadata": {
        "id": "crk-VWf912z_",
        "colab_type": "code",
        "colab": {
          "base_uri": "https://localhost:8080/",
          "height": 35
        },
        "outputId": "251acfa4-5dcc-44fc-ff37-89e125cab82e"
      },
      "source": [
        "carp(4,5,6,7,8)"
      ],
      "execution_count": 244,
      "outputs": [
        {
          "output_type": "stream",
          "text": [
            "6720\n"
          ],
          "name": "stdout"
        }
      ]
    },
    {
      "cell_type": "code",
      "metadata": {
        "id": "sp9bJPmu1-lF",
        "colab_type": "code",
        "colab": {
          "base_uri": "https://localhost:8080/",
          "height": 35
        },
        "outputId": "0aab548b-3a1f-4c19-ddfe-8287e43ee2f6"
      },
      "source": [
        "carp(2,3,4,5)"
      ],
      "execution_count": 245,
      "outputs": [
        {
          "output_type": "stream",
          "text": [
            "120\n"
          ],
          "name": "stdout"
        }
      ]
    },
    {
      "cell_type": "code",
      "metadata": {
        "id": "M_gEN02J7Z6P",
        "colab_type": "code",
        "colab": {}
      },
      "source": [
        "#maaş hesabını fonksiyon olarak yazalım.\n",
        "\n",
        "\n",
        "def maashesabi(maas):\n",
        "\n",
        "  if maas < 0:\n",
        "    return(\"Geçersiz değer\")\n",
        "  else:\n",
        "\n",
        "    if 0 < maas <= 1000:\n",
        "      maas = maas + maas * 0.15\n",
        "    elif maas <= 2000:\n",
        "      maas = maas + maas * 0.1\n",
        "    elif maas <= 3000:\n",
        "      maas = maas + maas * 0.05\n",
        "    else:\n",
        "      maas = maas + maas * 0.025\n",
        "\n",
        "    return (\"Yeni maaşınız\", maas)"
      ],
      "execution_count": 246,
      "outputs": []
    },
    {
      "cell_type": "code",
      "metadata": {
        "id": "Tp8kE5iH7-_x",
        "colab_type": "code",
        "colab": {
          "base_uri": "https://localhost:8080/",
          "height": 36
        },
        "outputId": "c0049759-48de-410f-814f-7752832df183"
      },
      "source": [
        "maashesabi(-5)"
      ],
      "execution_count": 247,
      "outputs": [
        {
          "output_type": "execute_result",
          "data": {
            "application/vnd.google.colaboratory.intrinsic+json": {
              "type": "string"
            },
            "text/plain": [
              "'Geçersiz değer'"
            ]
          },
          "metadata": {
            "tags": []
          },
          "execution_count": 247
        }
      ]
    },
    {
      "cell_type": "code",
      "metadata": {
        "id": "I9BT87fl-Kgr",
        "colab_type": "code",
        "colab": {}
      },
      "source": [
        "#maaşı kullanıcıdan isteyen fonksiyon olarak tekrar yazalım.\n",
        "\n",
        "\n",
        "def maashesabi2():\n",
        "\n",
        "  maas = float(input(\"Lütfen maaşınızı giriniz: \"))\n",
        "\n",
        "  if maas < 0:\n",
        "    return(\"Geçersiz değer\")\n",
        "  else:\n",
        "    if 0 < maas <= 1000:\n",
        "      maas = maas + maas * 0.15\n",
        "    elif maas <= 2000:\n",
        "      maas = maas + maas * 0.1\n",
        "    elif maas <= 3000:\n",
        "      maas = maas + maas * 0.05\n",
        "    else:\n",
        "      maas = maas + maas * 0.025\n",
        "\n",
        "    return (\"Yeni maaşınız\", maas)\n",
        " "
      ],
      "execution_count": 248,
      "outputs": []
    },
    {
      "cell_type": "code",
      "metadata": {
        "id": "bF1ty6Cc8U_X",
        "colab_type": "code",
        "colab": {
          "base_uri": "https://localhost:8080/",
          "height": 52
        },
        "outputId": "23a27cf6-7037-4ba6-88b2-2049d4ca4c7b"
      },
      "source": [
        "yeni_maasim = maashesabi2() \n",
        "print(yeni_maasim)"
      ],
      "execution_count": 249,
      "outputs": [
        {
          "output_type": "stream",
          "text": [
            "Lütfen maaşınızı giriniz: 1000\n",
            "('Yeni maaşınız', 1150.0)\n"
          ],
          "name": "stdout"
        }
      ]
    },
    {
      "cell_type": "markdown",
      "metadata": {
        "id": "6sOO_4CbBygM",
        "colab_type": "text"
      },
      "source": [
        "### Bir listedeki kelimelerden random bir kelimeyi döndüren fonksiyonu yazalım.\n",
        "\n",
        "###Modüller\n",
        "\n",
        "import numpy\n",
        "\n",
        "import tensorflow as tf\n",
        "\n",
        "import myModules\n",
        "\n",
        "myModules.myFunc()\n",
        "\n",
        "from myModules import *\n",
        "\n",
        "myFunc()"
      ]
    },
    {
      "cell_type": "code",
      "metadata": {
        "id": "fyf2VtDZ3ALS",
        "colab_type": "code",
        "colab": {}
      },
      "source": [
        "kelimeler = [\"yapay\",\"zeka\",\"makine\",\"öğrenimi\",\"python\",\"programlama\"]\n",
        "\n",
        "\n",
        "#from random import *\n",
        "import random as rnd\n",
        "\n",
        "def randomWord(kelimeler):\n",
        "  index = rnd.randint(0, len(kelimeler)-1)\n",
        "  return kelimeler[index]\n",
        "  \n",
        "\n"
      ],
      "execution_count": 250,
      "outputs": []
    },
    {
      "cell_type": "code",
      "metadata": {
        "id": "vdt230OzC_DR",
        "colab_type": "code",
        "colab": {
          "base_uri": "https://localhost:8080/",
          "height": 35
        },
        "outputId": "d86a979d-f371-44b4-9769-3b074686680c"
      },
      "source": [
        "kelime = randomWord(kelimeler)\n",
        "print(kelime)"
      ],
      "execution_count": 252,
      "outputs": [
        {
          "output_type": "stream",
          "text": [
            "python\n"
          ],
          "name": "stdout"
        }
      ]
    },
    {
      "cell_type": "markdown",
      "metadata": {
        "id": "MfFOsrA6AfmC",
        "colab_type": "text"
      },
      "source": [
        "###Global & Yerel Değişkenler"
      ]
    },
    {
      "cell_type": "code",
      "metadata": {
        "id": "7_UD1zAn_lxX",
        "colab_type": "code",
        "colab": {
          "base_uri": "https://localhost:8080/",
          "height": 35
        },
        "outputId": "943b58cd-497e-4cec-962f-37084451f85a"
      },
      "source": [
        "x = 5\n",
        "\n",
        "print(x)"
      ],
      "execution_count": 253,
      "outputs": [
        {
          "output_type": "stream",
          "text": [
            "5\n"
          ],
          "name": "stdout"
        }
      ]
    },
    {
      "cell_type": "code",
      "metadata": {
        "id": "IisEjgqpAqCi",
        "colab_type": "code",
        "colab": {}
      },
      "source": [
        "def yazdir():\n",
        "  x = 4\n",
        "  return(x)"
      ],
      "execution_count": 254,
      "outputs": []
    },
    {
      "cell_type": "code",
      "metadata": {
        "id": "6dhEuYDjAylB",
        "colab_type": "code",
        "colab": {
          "base_uri": "https://localhost:8080/",
          "height": 35
        },
        "outputId": "3d88f156-bdd1-411b-9fcb-93715c02d292"
      },
      "source": [
        "yazdir()"
      ],
      "execution_count": 255,
      "outputs": [
        {
          "output_type": "execute_result",
          "data": {
            "text/plain": [
              "4"
            ]
          },
          "metadata": {
            "tags": []
          },
          "execution_count": 255
        }
      ]
    },
    {
      "cell_type": "code",
      "metadata": {
        "id": "dPUxfagJA7Gn",
        "colab_type": "code",
        "colab": {
          "base_uri": "https://localhost:8080/",
          "height": 35
        },
        "outputId": "ba6bf99f-ba77-4498-b6f5-fe4c2328d920"
      },
      "source": [
        "print(x)"
      ],
      "execution_count": 256,
      "outputs": [
        {
          "output_type": "stream",
          "text": [
            "5\n"
          ],
          "name": "stdout"
        }
      ]
    },
    {
      "cell_type": "markdown",
      "metadata": {
        "id": "WJreHgrGllCV",
        "colab_type": "text"
      },
      "source": [
        "## Methodlar\n",
        "\n",
        "Fonksiyonlar ; isimle çağrılır, içerisine parametre alabilir ve isteğe bağlı olarak fonksiyon dışında sonuçta çıkan değer kullanılabilir.\n",
        "\n",
        "\n",
        "Methodlar da isimle çağrılır, birçok açıdan fonksiyonlar gibidir fakat çağrılma olayı String, list gibi bir nesne(object) üzerinden yapılır.\n",
        "\n",
        "\n",
        "nesne.methodAdı(parametre)"
      ]
    },
    {
      "cell_type": "code",
      "metadata": {
        "id": "G56qfrjqDEDP",
        "colab_type": "code",
        "colab": {
          "base_uri": "https://localhost:8080/",
          "height": 52
        },
        "outputId": "2abf68af-5adf-4515-a550-36ebce8a8166"
      },
      "source": [
        "s = input(\"Bir isim giriniz: \")\n",
        "\n",
        "upper = s.capitalize()\n",
        "\n",
        "print(upper)"
      ],
      "execution_count": 257,
      "outputs": [
        {
          "output_type": "stream",
          "text": [
            "Bir isim giriniz: asli\n",
            "Asli\n"
          ],
          "name": "stdout"
        }
      ]
    },
    {
      "cell_type": "code",
      "metadata": {
        "id": "7DzoBNeApbzZ",
        "colab_type": "code",
        "colab": {
          "base_uri": "https://localhost:8080/",
          "height": 35
        },
        "outputId": "1574c1d7-156b-4650-f3b6-8a2b22b98eed"
      },
      "source": [
        "#verilen bir listedeki en büyük değere sahip elemanın indexini döndürsün.\n",
        "\n",
        "myList = [45,7,23,6,12,78]\n",
        "\n",
        "maxElement = max(myList)\n",
        "\n",
        "maxIndex = myList.index(maxElement)\n",
        "\n",
        "print(maxIndex)"
      ],
      "execution_count": 258,
      "outputs": [
        {
          "output_type": "stream",
          "text": [
            "5\n"
          ],
          "name": "stdout"
        }
      ]
    },
    {
      "cell_type": "code",
      "metadata": {
        "id": "LBfa0aZxqLlM",
        "colab_type": "code",
        "colab": {}
      },
      "source": [
        ""
      ],
      "execution_count": null,
      "outputs": []
    },
    {
      "cell_type": "markdown",
      "metadata": {
        "id": "j00kbB-3L9ch",
        "colab_type": "text"
      },
      "source": [
        "##Ödev\n",
        "\n",
        "Verilen bir pozitif sayı için bu sayı ve bu sayıya kadar olan değerler içinde kaç adet 2 rakamı bulunduğunu hesaplayan fonksiyonu yazınız.\n",
        "\n",
        "Örnek çıktı:\n",
        "\n",
        "15 değeri için cevap 2'dir (2, 12 --> toplamda 2 adet 2 rakamı var.) \n",
        "\n",
        "23 değeri için cevap 7 (2, 12, 20, 21, 22, 23 --> toplamda 7 adet 2 rakamı var.)"
      ]
    },
    {
      "cell_type": "code",
      "metadata": {
        "id": "_XKcEPicMhxw",
        "colab_type": "code",
        "colab": {}
      },
      "source": [
        ""
      ],
      "execution_count": null,
      "outputs": []
    }
  ]
}