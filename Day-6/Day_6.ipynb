{
  "nbformat": 4,
  "nbformat_minor": 0,
  "metadata": {
    "colab": {
      "name": "Day_6.ipynb",
      "provenance": [],
      "collapsed_sections": []
    },
    "kernelspec": {
      "name": "python3",
      "display_name": "Python 3"
    }
  },
  "cells": [
    {
      "cell_type": "markdown",
      "metadata": {
        "id": "cma2IKnL9e-M",
        "colab_type": "text"
      },
      "source": [
        "# Hatalar \n",
        "\n",
        "*   Programcı Hataları (Error)\n",
        "*   Program Kusurları (Bug)\n",
        "*   İstisnalar (Exception)\n",
        "\n",
        "\n"
      ]
    },
    {
      "cell_type": "code",
      "metadata": {
        "id": "1YGSrszE9cch",
        "colab_type": "code",
        "colab": {
          "base_uri": "https://localhost:8080/",
          "height": 136
        },
        "outputId": "e2c4d0a6-ef52-4a7f-c864-bb327cee3b69"
      },
      "source": [
        "# error lara bir örnek,SyntaxError.\n",
        "\n",
        "print \"Hello World!\""
      ],
      "execution_count": 1,
      "outputs": [
        {
          "output_type": "error",
          "ename": "SyntaxError",
          "evalue": "ignored",
          "traceback": [
            "\u001b[0;36m  File \u001b[0;32m\"<ipython-input-1-b049c2195aa3>\"\u001b[0;36m, line \u001b[0;32m3\u001b[0m\n\u001b[0;31m    print \"Hello World!\"\u001b[0m\n\u001b[0m                       ^\u001b[0m\n\u001b[0;31mSyntaxError\u001b[0m\u001b[0;31m:\u001b[0m Missing parentheses in call to 'print'. Did you mean print(\"Hello World!\")?\n"
          ]
        }
      ]
    },
    {
      "cell_type": "code",
      "metadata": {
        "id": "LC3AppARBI56",
        "colab_type": "code",
        "colab": {
          "base_uri": "https://localhost:8080/",
          "height": 173
        },
        "outputId": "dca94830-ad46-40e5-f7e9-35d830a79267"
      },
      "source": [
        "print(2/0)"
      ],
      "execution_count": 3,
      "outputs": [
        {
          "output_type": "error",
          "ename": "ZeroDivisionError",
          "evalue": "ignored",
          "traceback": [
            "\u001b[0;31m---------------------------------------------------------------------------\u001b[0m",
            "\u001b[0;31mZeroDivisionError\u001b[0m                         Traceback (most recent call last)",
            "\u001b[0;32m<ipython-input-3-d2c0889640ff>\u001b[0m in \u001b[0;36m<module>\u001b[0;34m()\u001b[0m\n\u001b[0;32m----> 1\u001b[0;31m \u001b[0mprint\u001b[0m\u001b[0;34m(\u001b[0m\u001b[0;36m2\u001b[0m\u001b[0;34m/\u001b[0m\u001b[0;36m0\u001b[0m\u001b[0;34m)\u001b[0m\u001b[0;34m\u001b[0m\u001b[0;34m\u001b[0m\u001b[0m\n\u001b[0m",
            "\u001b[0;31mZeroDivisionError\u001b[0m: division by zero"
          ]
        }
      ]
    },
    {
      "cell_type": "code",
      "metadata": {
        "id": "OMnUYXwD_msy",
        "colab_type": "code",
        "colab": {
          "base_uri": "https://localhost:8080/",
          "height": 70
        },
        "outputId": "d72edcc1-527b-491a-c0ea-a1a8ab523803"
      },
      "source": [
        "#bug lara bir örnek.\n",
        "\n",
        "\n",
        "sayi1 = input(\"1. sayıyı giriniz: \")\n",
        "sayi2 = input(\"2. sayıyı giriniz: \")\n",
        "\n",
        "print(sayi1, \"+\", sayi2, \"=\", sayi1 + sayi2)\n"
      ],
      "execution_count": null,
      "outputs": [
        {
          "output_type": "stream",
          "text": [
            "1. sayıyı giriniz: 5\n",
            "2. sayıyı giriniz: 7\n",
            "5 + 7 = 57\n"
          ],
          "name": "stdout"
        }
      ]
    },
    {
      "cell_type": "code",
      "metadata": {
        "id": "n0Ux_gF9CthH",
        "colab_type": "code",
        "colab": {
          "base_uri": "https://localhost:8080/",
          "height": 275
        },
        "outputId": "1ad08cf2-a946-4a1e-af70-d307f7521f49"
      },
      "source": [
        "#exception lara bir diğer örnek, ValueError.\n",
        "\n",
        "sayi3 = int(input(\"İlk sayı: \"))\n",
        "sayi4 = int(input(\"İkinci sayı: \"))\n",
        "\n",
        "print(sayi3, \"/\",sayi4, \"=\", sayi3/sayi4)"
      ],
      "execution_count": null,
      "outputs": [
        {
          "output_type": "stream",
          "text": [
            "İlk sayı: 5\n",
            "İkinci sayı: dfgsd\n"
          ],
          "name": "stdout"
        },
        {
          "output_type": "error",
          "ename": "ValueError",
          "evalue": "ignored",
          "traceback": [
            "\u001b[0;31m---------------------------------------------------------------------------\u001b[0m",
            "\u001b[0;31mValueError\u001b[0m                                Traceback (most recent call last)",
            "\u001b[0;32m<ipython-input-159-e998def70883>\u001b[0m in \u001b[0;36m<module>\u001b[0;34m()\u001b[0m\n\u001b[1;32m      2\u001b[0m \u001b[0;34m\u001b[0m\u001b[0m\n\u001b[1;32m      3\u001b[0m \u001b[0msayi3\u001b[0m \u001b[0;34m=\u001b[0m \u001b[0mint\u001b[0m\u001b[0;34m(\u001b[0m\u001b[0minput\u001b[0m\u001b[0;34m(\u001b[0m\u001b[0;34m\"İlk sayı: \"\u001b[0m\u001b[0;34m)\u001b[0m\u001b[0;34m)\u001b[0m\u001b[0;34m\u001b[0m\u001b[0;34m\u001b[0m\u001b[0m\n\u001b[0;32m----> 4\u001b[0;31m \u001b[0msayi4\u001b[0m \u001b[0;34m=\u001b[0m \u001b[0mint\u001b[0m\u001b[0;34m(\u001b[0m\u001b[0minput\u001b[0m\u001b[0;34m(\u001b[0m\u001b[0;34m\"İkinci sayı: \"\u001b[0m\u001b[0;34m)\u001b[0m\u001b[0;34m)\u001b[0m\u001b[0;34m\u001b[0m\u001b[0;34m\u001b[0m\u001b[0m\n\u001b[0m\u001b[1;32m      5\u001b[0m \u001b[0;34m\u001b[0m\u001b[0m\n\u001b[1;32m      6\u001b[0m \u001b[0mprint\u001b[0m\u001b[0;34m(\u001b[0m\u001b[0msayi3\u001b[0m\u001b[0;34m,\u001b[0m \u001b[0;34m\"/\"\u001b[0m\u001b[0;34m,\u001b[0m\u001b[0msayi4\u001b[0m\u001b[0;34m,\u001b[0m \u001b[0;34m\"=\"\u001b[0m\u001b[0;34m,\u001b[0m \u001b[0msayi3\u001b[0m\u001b[0;34m/\u001b[0m\u001b[0msayi4\u001b[0m\u001b[0;34m)\u001b[0m\u001b[0;34m\u001b[0m\u001b[0;34m\u001b[0m\u001b[0m\n",
            "\u001b[0;31mValueError\u001b[0m: invalid literal for int() with base 10: 'dfgsd'"
          ]
        }
      ]
    },
    {
      "cell_type": "code",
      "metadata": {
        "id": "D9_dw3TqA0wc",
        "colab_type": "code",
        "colab": {
          "base_uri": "https://localhost:8080/",
          "height": 239
        },
        "outputId": "321e6918-c6e2-4183-edc7-f1dcf37d85f5"
      },
      "source": [
        "#exception lara bir örnek, ZeroDivisionError.\n",
        "\n",
        "\n",
        "sayi3 = int(input(\"İlk sayı: \"))\n",
        "sayi4 = int(input(\"İkinci sayı: \"))\n",
        "\n",
        "print(sayi3, \"/\",sayi4, \"=\", sayi3/sayi4)"
      ],
      "execution_count": null,
      "outputs": [
        {
          "output_type": "stream",
          "text": [
            "İlk sayı: 7\n",
            "İkinci sayı: 0\n"
          ],
          "name": "stdout"
        },
        {
          "output_type": "error",
          "ename": "ZeroDivisionError",
          "evalue": "ignored",
          "traceback": [
            "\u001b[0;31m---------------------------------------------------------------------------\u001b[0m",
            "\u001b[0;31mZeroDivisionError\u001b[0m                         Traceback (most recent call last)",
            "\u001b[0;32m<ipython-input-160-bad5358b9891>\u001b[0m in \u001b[0;36m<module>\u001b[0;34m()\u001b[0m\n\u001b[1;32m      5\u001b[0m \u001b[0msayi4\u001b[0m \u001b[0;34m=\u001b[0m \u001b[0mint\u001b[0m\u001b[0;34m(\u001b[0m\u001b[0minput\u001b[0m\u001b[0;34m(\u001b[0m\u001b[0;34m\"İkinci sayı: \"\u001b[0m\u001b[0;34m)\u001b[0m\u001b[0;34m)\u001b[0m\u001b[0;34m\u001b[0m\u001b[0;34m\u001b[0m\u001b[0m\n\u001b[1;32m      6\u001b[0m \u001b[0;34m\u001b[0m\u001b[0m\n\u001b[0;32m----> 7\u001b[0;31m \u001b[0mprint\u001b[0m\u001b[0;34m(\u001b[0m\u001b[0msayi3\u001b[0m\u001b[0;34m,\u001b[0m \u001b[0;34m\"/\"\u001b[0m\u001b[0;34m,\u001b[0m\u001b[0msayi4\u001b[0m\u001b[0;34m,\u001b[0m \u001b[0;34m\"=\"\u001b[0m\u001b[0;34m,\u001b[0m \u001b[0msayi3\u001b[0m\u001b[0;34m/\u001b[0m\u001b[0msayi4\u001b[0m\u001b[0;34m)\u001b[0m\u001b[0;34m\u001b[0m\u001b[0;34m\u001b[0m\u001b[0m\n\u001b[0m",
            "\u001b[0;31mZeroDivisionError\u001b[0m: division by zero"
          ]
        }
      ]
    },
    {
      "cell_type": "markdown",
      "metadata": {
        "id": "bz2U4A64BnWJ",
        "colab_type": "text"
      },
      "source": [
        "##Hata Yakalama\n",
        "\n",
        "\n",
        "try:\n",
        "\n",
        "\n",
        "> hata alabileceğimiz kısımlar.\n",
        "\n",
        "except <Hata Adı>:\n",
        "\n",
        "\n",
        "> hata durumunda yapılacak işlem.\n",
        "\n",
        "\n",
        "\n"
      ]
    },
    {
      "cell_type": "code",
      "metadata": {
        "id": "-2Dkw2H4BpCX",
        "colab_type": "code",
        "colab": {
          "base_uri": "https://localhost:8080/",
          "height": 204
        },
        "outputId": "f81b0a41-db10-4a9d-852e-00eaf498e0d4"
      },
      "source": [
        "x = \"Alan Turing\"\n",
        "\n",
        "int(x)"
      ],
      "execution_count": null,
      "outputs": [
        {
          "output_type": "error",
          "ename": "ValueError",
          "evalue": "ignored",
          "traceback": [
            "\u001b[0;31m---------------------------------------------------------------------------\u001b[0m",
            "\u001b[0;31mValueError\u001b[0m                                Traceback (most recent call last)",
            "\u001b[0;32m<ipython-input-161-417db27f4b47>\u001b[0m in \u001b[0;36m<module>\u001b[0;34m()\u001b[0m\n\u001b[1;32m      1\u001b[0m \u001b[0mx\u001b[0m \u001b[0;34m=\u001b[0m \u001b[0;34m\"Alan Turing\"\u001b[0m\u001b[0;34m\u001b[0m\u001b[0;34m\u001b[0m\u001b[0m\n\u001b[1;32m      2\u001b[0m \u001b[0;34m\u001b[0m\u001b[0m\n\u001b[0;32m----> 3\u001b[0;31m \u001b[0mint\u001b[0m\u001b[0;34m(\u001b[0m\u001b[0mx\u001b[0m\u001b[0;34m)\u001b[0m\u001b[0;34m\u001b[0m\u001b[0;34m\u001b[0m\u001b[0m\n\u001b[0m",
            "\u001b[0;31mValueError\u001b[0m: invalid literal for int() with base 10: 'Alan Turing'"
          ]
        }
      ]
    },
    {
      "cell_type": "code",
      "metadata": {
        "id": "rAhmuTE9B8cy",
        "colab_type": "code",
        "colab": {
          "base_uri": "https://localhost:8080/",
          "height": 36
        },
        "outputId": "ff441624-d967-41c1-a5f1-15fc46039689"
      },
      "source": [
        "x=\"Fethi\"\n",
        "\n",
        "try:\n",
        "  int(x)\n",
        "\n",
        "except ValueError:\n",
        "  print(\"Lütfen integer bir değer giriniz!!!\")"
      ],
      "execution_count": 8,
      "outputs": [
        {
          "output_type": "stream",
          "text": [
            "Lütfen integer bir değer giriniz!!!\n"
          ],
          "name": "stdout"
        }
      ]
    },
    {
      "cell_type": "code",
      "metadata": {
        "id": "E4QMEl4YC5cR",
        "colab_type": "code",
        "colab": {
          "base_uri": "https://localhost:8080/",
          "height": 73
        },
        "outputId": "e0e17000-86dd-47d2-b267-10d9b7e75532"
      },
      "source": [
        "sayi3 = input(\"İlk sayı: \")\n",
        "sayi4 = input(\"İkinci sayı: \")\n",
        "\n",
        "try:\n",
        "  sayi3_int = int(sayi3)\n",
        "  sayi4_int = int(sayi4)\n",
        "\n",
        "  print(sayi3_int, \"/\",sayi4_int, \"=\", sayi3_int/sayi4_int)\n",
        "\n",
        "except:\n",
        "  print(\"Lütfen sayıları düzgün girin!!!\")"
      ],
      "execution_count": 13,
      "outputs": [
        {
          "output_type": "stream",
          "text": [
            "İlk sayı: 7\n",
            "İkinci sayı: 0\n",
            "Lütfen sayıları düzgün girin!!!\n"
          ],
          "name": "stdout"
        }
      ]
    },
    {
      "cell_type": "code",
      "metadata": {
        "id": "ttj6eITbCYik",
        "colab_type": "code",
        "colab": {
          "base_uri": "https://localhost:8080/",
          "height": 73
        },
        "outputId": "f5b30137-e659-4de4-d511-93b2ca582558"
      },
      "source": [
        "sayi3 = input(\"İlk sayı: \")\n",
        "sayi4 = input(\"İkinci sayı: \")\n",
        "\n",
        "try:\n",
        "  sayi3_int = int(sayi3)\n",
        "  sayi4_int = int(sayi4)\n",
        "\n",
        "  print(sayi3_int, \"/\",sayi4_int, \"=\", sayi3_int/sayi4_int)\n",
        "\n",
        "except ZeroDivisionError:\n",
        "  print(\"Lütfen 2. girdinizi 0 dan farklı bir integer değer giriniz!!!\")"
      ],
      "execution_count": 15,
      "outputs": [
        {
          "output_type": "stream",
          "text": [
            "İlk sayı: 10\n",
            "İkinci sayı: 5\n",
            "10 / 5 = 2.0\n"
          ],
          "name": "stdout"
        }
      ]
    },
    {
      "cell_type": "code",
      "metadata": {
        "id": "qgTSl8xJFrnP",
        "colab_type": "code",
        "colab": {
          "base_uri": "https://localhost:8080/",
          "height": 73
        },
        "outputId": "9bbe05ee-34d6-487c-f361-f7401f590e32"
      },
      "source": [
        "sayi3 = input(\"İlk sayı: \")\n",
        "sayi4 = input(\"İkinci sayı: \")\n",
        "\n",
        "try:\n",
        "  sayi3_int = int(sayi3)\n",
        "  sayi4_int = int(sayi4)\n",
        "\n",
        "  print(sayi3_int, \"/\",sayi4_int, \"=\", sayi3_int/sayi4_int)\n",
        "\n",
        "except ValueError:\n",
        "  print(\"Lütfen integer bir değer giriniz!!!\")\n",
        "except ZeroDivisionError:\n",
        "  print(\"Bölen sayıyı 0 dan farklı bir integer değer giriniz!!!\")\n",
        "except:\n",
        "  print(\"Bilinmeyen br hata oluştu...\")"
      ],
      "execution_count": 14,
      "outputs": [
        {
          "output_type": "stream",
          "text": [
            "İlk sayı: 7\n",
            "İkinci sayı: 0\n",
            "Bölen sayıyı 0 dan farklı bir integer değer giriniz!!!\n"
          ],
          "name": "stdout"
        }
      ]
    },
    {
      "cell_type": "code",
      "metadata": {
        "id": "bGy694JBF4nv",
        "colab_type": "code",
        "colab": {}
      },
      "source": [
        "sayi3 = input(\"İlk sayı: \")\n",
        "sayi4 = input(\"İkinci sayı: \")\n",
        "\n",
        "try:\n",
        "  sayi3_int = int(sayi3)\n",
        "  sayi4_int = int(sayi4)\n",
        "\n",
        "  print(sayi3_int, \"/\",sayi4_int, \"=\", sayi3_int/sayi4_int )\n",
        "\n",
        "except (ValueError, ZeroDivisionError):\n",
        "  print(\"Bir hata oluştu!!!\")"
      ],
      "execution_count": null,
      "outputs": []
    },
    {
      "cell_type": "code",
      "metadata": {
        "id": "tu1cCIfjJiFM",
        "colab_type": "code",
        "colab": {
          "base_uri": "https://localhost:8080/",
          "height": 91
        },
        "outputId": "8b898fc4-948a-4bb7-f1fe-c15c42c1025d"
      },
      "source": [
        "#try/except/as\n",
        "\n",
        "\n",
        "sayi3 = input(\"İlk sayı: \")\n",
        "sayi4 = input(\"İkinci sayı: \")\n",
        "\n",
        "try:\n",
        "  sayi3_int = int(sayi3)\n",
        "  sayi4_int = int(sayi4)\n",
        "\n",
        "  print(sayi3_int, \"/\",sayi4_int, \"=\", sayi3_int/sayi4_int)\n",
        "\n",
        "#AS MESAJ DENDİĞİ ZAMAN İLGİLİ HATANIN MESAJINI TUTAR\n",
        "except (ValueError,ZeroDivisionError) as mesaj:\n",
        "  print(\"Bir hata var!!!\")\n",
        "  print(\"Hata mesajı: \", mesaj)"
      ],
      "execution_count": 25,
      "outputs": [
        {
          "output_type": "stream",
          "text": [
            "İlk sayı: fethi\n",
            "İkinci sayı: 0\n",
            "Bir hata var!!!\n",
            "Hata mesajı:  invalid literal for int() with base 10: 'fethi'\n"
          ],
          "name": "stdout"
        }
      ]
    },
    {
      "cell_type": "code",
      "metadata": {
        "id": "g07-ysSCGQvw",
        "colab_type": "code",
        "colab": {
          "base_uri": "https://localhost:8080/",
          "height": 91
        },
        "outputId": "eb7b1e03-12a9-4227-a65b-4ab84678988d"
      },
      "source": [
        "#döngü yapılarında hata yakalama\n",
        "\n",
        "\n",
        "while True:\n",
        "    sayi1 = input(\"Birinci sayı: (Programdan çıkmak için q tuşuna basın): \")\n",
        "\n",
        "    if sayi1 == \"q\":\n",
        "        break\n",
        "\n",
        "    sayi2 = input(\"İkinci sayı: \")\n",
        "\n",
        "    try:\n",
        "        sayi1_int = int(sayi1)\n",
        "        sayi2_int = int(sayi2)\n",
        "        print(sayi1_int, \"/\", sayi2_int, \"=\", sayi1_int / sayi2_int)\n",
        "    except (ValueError, ZeroDivisionError) as mesaj:\n",
        "        print(\"Bir hata oluştu!\")\n",
        "        print(\"Lütfen tekrar deneyin! Hata:\",mesaj)\n",
        "        break"
      ],
      "execution_count": 29,
      "outputs": [
        {
          "output_type": "stream",
          "text": [
            "Birinci sayı: (Programdan çıkmak için q tuşuna basın): 5\n",
            "İkinci sayı: 0\n",
            "Bir hata oluştu!\n",
            "Lütfen tekrar deneyin! Hata: division by zero\n"
          ],
          "name": "stdout"
        }
      ]
    },
    {
      "cell_type": "code",
      "metadata": {
        "id": "S7czCxD3KTKx",
        "colab_type": "code",
        "colab": {
          "base_uri": "https://localhost:8080/",
          "height": 36
        },
        "outputId": "2aea68eb-907a-4261-f67e-ed85915399ca"
      },
      "source": [
        "\"\"\"\n",
        "fonksiyonlarda hata yakalama\n",
        "kendi yazdığımız fonksiyonlar içine \"raise\" komutu ile duruma özel hata \n",
        "mesajları yayımlayabiliyoruz.\n",
        "\"\"\"\n",
        "\n",
        "\n",
        "def terscevir(s):\n",
        "\n",
        "    if (type(s) != str):\n",
        "        raise TypeError(\"Parametrenin tipi hatalı\")\n",
        "    else:\n",
        "        return s[::-1]\n",
        "\n",
        "try:\n",
        "  terscevir(1)\n",
        "except (ValueError,TypeError) as mesaj:\n",
        "  print(\"Hata oluştu! Hata:\",mesaj)"
      ],
      "execution_count": 39,
      "outputs": [
        {
          "output_type": "stream",
          "text": [
            "Hata oluştu! Hata: Parametrenin tipi hatalı\n"
          ],
          "name": "stdout"
        }
      ]
    },
    {
      "cell_type": "code",
      "metadata": {
        "id": "2t0fmpb7MOfp",
        "colab_type": "code",
        "colab": {
          "base_uri": "https://localhost:8080/",
          "height": 36
        },
        "outputId": "1542e4d2-ba69-4612-86eb-ef2c5af001ff"
      },
      "source": [
        "terscevir(\"fethi\")"
      ],
      "execution_count": 41,
      "outputs": [
        {
          "output_type": "execute_result",
          "data": {
            "application/vnd.google.colaboratory.intrinsic+json": {
              "type": "string"
            },
            "text/plain": [
              "'ihtef'"
            ]
          },
          "metadata": {
            "tags": []
          },
          "execution_count": 41
        }
      ]
    },
    {
      "cell_type": "code",
      "metadata": {
        "id": "Qp4QI6GhzBgC",
        "colab_type": "code",
        "colab": {
          "base_uri": "https://localhost:8080/",
          "height": 292
        },
        "outputId": "dfc0d3a7-6c34-471e-9ab2-d6a0ab717809"
      },
      "source": [
        "terscevir(12)"
      ],
      "execution_count": null,
      "outputs": [
        {
          "output_type": "error",
          "ename": "ValueError",
          "evalue": "ignored",
          "traceback": [
            "\u001b[0;31m---------------------------------------------------------------------------\u001b[0m",
            "\u001b[0;31mValueError\u001b[0m                                Traceback (most recent call last)",
            "\u001b[0;32m<ipython-input-169-811d8f3197d6>\u001b[0m in \u001b[0;36m<module>\u001b[0;34m()\u001b[0m\n\u001b[0;32m----> 1\u001b[0;31m \u001b[0mterscevir\u001b[0m\u001b[0;34m(\u001b[0m\u001b[0;36m12\u001b[0m\u001b[0;34m)\u001b[0m\u001b[0;34m\u001b[0m\u001b[0;34m\u001b[0m\u001b[0m\n\u001b[0m",
            "\u001b[0;32m<ipython-input-167-4506972d9281>\u001b[0m in \u001b[0;36mterscevir\u001b[0;34m(s)\u001b[0m\n\u001b[1;32m      9\u001b[0m \u001b[0;34m\u001b[0m\u001b[0m\n\u001b[1;32m     10\u001b[0m     \u001b[0;32mif\u001b[0m \u001b[0;34m(\u001b[0m\u001b[0mtype\u001b[0m\u001b[0;34m(\u001b[0m\u001b[0ms\u001b[0m\u001b[0;34m)\u001b[0m \u001b[0;34m!=\u001b[0m \u001b[0mstr\u001b[0m\u001b[0;34m)\u001b[0m\u001b[0;34m:\u001b[0m\u001b[0;34m\u001b[0m\u001b[0;34m\u001b[0m\u001b[0m\n\u001b[0;32m---> 11\u001b[0;31m         \u001b[0;32mraise\u001b[0m \u001b[0mValueError\u001b[0m\u001b[0;34m(\u001b[0m\u001b[0;34m\"Lütfen bir string değeri girin.\"\u001b[0m\u001b[0;34m)\u001b[0m\u001b[0;34m\u001b[0m\u001b[0;34m\u001b[0m\u001b[0m\n\u001b[0m\u001b[1;32m     12\u001b[0m     \u001b[0;32melse\u001b[0m\u001b[0;34m:\u001b[0m\u001b[0;34m\u001b[0m\u001b[0;34m\u001b[0m\u001b[0m\n\u001b[1;32m     13\u001b[0m         \u001b[0;32mreturn\u001b[0m \u001b[0ms\u001b[0m\u001b[0;34m[\u001b[0m\u001b[0;34m:\u001b[0m\u001b[0;34m:\u001b[0m\u001b[0;34m-\u001b[0m\u001b[0;36m1\u001b[0m\u001b[0;34m]\u001b[0m\u001b[0;34m\u001b[0m\u001b[0;34m\u001b[0m\u001b[0m\n",
            "\u001b[0;31mValueError\u001b[0m: Lütfen bir string değeri girin."
          ]
        }
      ]
    },
    {
      "cell_type": "markdown",
      "metadata": {
        "id": "H6k8jXA_OKDH",
        "colab_type": "text"
      },
      "source": [
        "# Nesne Tabanlı Programlama (OOP)\n",
        "\n",
        "Çevremizde gördüğümüz her varlık birer nesne(object) tanımına girer.\n",
        "Her nesnenin de kendine ait özellikleri (attribute) ve yaptıkları bir takım işlevler(method) vardır.\n",
        "\n",
        "Sınıf dediğimiz kavram da, nesneleri üretmemizi sağlayan veri tipleridir.\n",
        "\n"
      ]
    },
    {
      "cell_type": "code",
      "metadata": {
        "id": "kwgMoF3sPqTs",
        "colab_type": "code",
        "colab": {}
      },
      "source": [
        "Araba\n",
        " -Renk\n",
        " -Marka\n",
        " -Kapi\n",
        " -LPG"
      ],
      "execution_count": null,
      "outputs": []
    },
    {
      "cell_type": "code",
      "metadata": {
        "id": "0mFzqLuyQYl2",
        "colab_type": "code",
        "colab": {}
      },
      "source": [
        "class Hayvan():\n",
        "  ses=\"Miyav\"\n",
        "  ayak=4"
      ],
      "execution_count": 42,
      "outputs": []
    },
    {
      "cell_type": "code",
      "metadata": {
        "id": "akc4gGN6Qera",
        "colab_type": "code",
        "colab": {
          "base_uri": "https://localhost:8080/",
          "height": 36
        },
        "outputId": "344c3e3b-e08e-4621-b08b-e8cbfe7e9474"
      },
      "source": [
        "hayvan1=Hayvan()\n",
        "print(hayvan1.ses)"
      ],
      "execution_count": 46,
      "outputs": [
        {
          "output_type": "stream",
          "text": [
            "Miyav\n"
          ],
          "name": "stdout"
        }
      ]
    },
    {
      "cell_type": "code",
      "metadata": {
        "id": "UTPw6XYiQtJJ",
        "colab_type": "code",
        "colab": {
          "base_uri": "https://localhost:8080/",
          "height": 36
        },
        "outputId": "fe74e7d9-4349-49c5-ce28-9821a12b76d3"
      },
      "source": [
        "hayvan1.ses=\"Havhav\"\n",
        "print(hayvan1.ses)"
      ],
      "execution_count": 48,
      "outputs": [
        {
          "output_type": "stream",
          "text": [
            "Havhav\n"
          ],
          "name": "stdout"
        }
      ]
    },
    {
      "cell_type": "code",
      "metadata": {
        "id": "nJsmf9twRsE5",
        "colab_type": "code",
        "colab": {
          "base_uri": "https://localhost:8080/",
          "height": 36
        },
        "outputId": "1a12df02-eefd-4a82-cc1e-15ccb1799d20"
      },
      "source": [
        "hayvan2=Hayvan()\n",
        "print(hayvan2.ses)"
      ],
      "execution_count": 49,
      "outputs": [
        {
          "output_type": "stream",
          "text": [
            "Miyav\n"
          ],
          "name": "stdout"
        }
      ]
    },
    {
      "cell_type": "code",
      "metadata": {
        "id": "Qcp4JwsRSQ3X",
        "colab_type": "code",
        "colab": {
          "base_uri": "https://localhost:8080/",
          "height": 36
        },
        "outputId": "7e7f39b4-3140-45bb-c84d-1b4b38f735a0"
      },
      "source": [
        "Hayvan.ayak\n",
        "Hayvan.ses"
      ],
      "execution_count": 51,
      "outputs": [
        {
          "output_type": "execute_result",
          "data": {
            "application/vnd.google.colaboratory.intrinsic+json": {
              "type": "string"
            },
            "text/plain": [
              "'Miyav'"
            ]
          },
          "metadata": {
            "tags": []
          },
          "execution_count": 51
        }
      ]
    },
    {
      "cell_type": "code",
      "metadata": {
        "id": "ODInfukGbGLo",
        "colab_type": "code",
        "colab": {
          "base_uri": "https://localhost:8080/",
          "height": 535
        },
        "outputId": "712c11d9-7e77-4211-90cb-edb15de64406"
      },
      "source": [
        "dir(hayvan1)"
      ],
      "execution_count": 52,
      "outputs": [
        {
          "output_type": "execute_result",
          "data": {
            "text/plain": [
              "['__class__',\n",
              " '__delattr__',\n",
              " '__dict__',\n",
              " '__dir__',\n",
              " '__doc__',\n",
              " '__eq__',\n",
              " '__format__',\n",
              " '__ge__',\n",
              " '__getattribute__',\n",
              " '__gt__',\n",
              " '__hash__',\n",
              " '__init__',\n",
              " '__init_subclass__',\n",
              " '__le__',\n",
              " '__lt__',\n",
              " '__module__',\n",
              " '__ne__',\n",
              " '__new__',\n",
              " '__reduce__',\n",
              " '__reduce_ex__',\n",
              " '__repr__',\n",
              " '__setattr__',\n",
              " '__sizeof__',\n",
              " '__str__',\n",
              " '__subclasshook__',\n",
              " '__weakref__',\n",
              " 'ayak',\n",
              " 'ses']"
            ]
          },
          "metadata": {
            "tags": []
          },
          "execution_count": 52
        }
      ]
    },
    {
      "cell_type": "markdown",
      "metadata": {
        "id": "KP-4gp7cU3W-",
        "colab_type": "text"
      },
      "source": [
        "\n",
        "\n",
        "\"\"\"\n",
        "\n",
        "Her bir objeyi başlangıçta farklı değerlerle oluşturmamız için her bir \n",
        "objeyi oluştururken objelerin değerlerini göndermemiz gerekiyor. \n",
        "Bunun için de özel bir method kullanıyoruz: __init()__\n",
        "\n",
        "init() methodu, yapıcı(constructor ) fonksiyon olarak tanımlanmaktadır. \n",
        "\n",
        "Objelerimiz oluşturulurken otomatik olarak ilk çağrılan fonksiyondur. \n",
        "\n",
        "Bu metodu özel olarak tanımlayarak objelerimizi farklı değerlerle oluşturabiliriz.\n",
        "\n",
        "\"\"\"\n"
      ]
    },
    {
      "cell_type": "code",
      "metadata": {
        "id": "iB2P1I88aZTB",
        "colab_type": "code",
        "colab": {
          "base_uri": "https://localhost:8080/",
          "height": 91
        },
        "outputId": "f538c79f-5da8-4562-95fe-a174c4d22b9e"
      },
      "source": [
        "#constructor / yapıcı\n",
        "#sınıf içersisinde sadece metod ve değişkenler olabilir\n",
        "#sınıf içerisindeki metodlar alsında sınıfın yapmıuş olduğu aksiyonlardır\n",
        "#sınıf içerisindeki değişkenler ise aslında sınıfın özellikleridir\n",
        "class Hayvan():\n",
        "  #ses=\"\"\n",
        "  #ayak=0\n",
        "  def __init__(self,ses,ayak):\n",
        "    print(\"Constructor çağrıldı!\")\n",
        "    self.ses=ses\n",
        "    self.ayak=ayak\n",
        "  def Yazdir(self):\n",
        "    print(\"Ses:\",self.ses,\" Ayak:\",self.ayak)\n",
        "\n",
        "tavuk=Hayvan(\"Gıdak\",2)\n",
        "tavuk.Yazdir()\n",
        "\n",
        "kedi=Hayvan(\"Miyav\",4)\n",
        "kedi.Yazdir()"
      ],
      "execution_count": 56,
      "outputs": [
        {
          "output_type": "stream",
          "text": [
            "Constructor çağrıldı!\n",
            "Ses: Gıdak  Ayak: 2\n",
            "Constructor çağrıldı!\n",
            "Ses: Miyav  Ayak: 4\n"
          ],
          "name": "stdout"
        }
      ]
    },
    {
      "cell_type": "code",
      "metadata": {
        "id": "rukOVNMxc3_T",
        "colab_type": "code",
        "colab": {}
      },
      "source": [
        "\"\"\"\n",
        "\n",
        "self= Tanımlanan sınıfta yer alan herhangi bir değişkene veya \n",
        "diğer method’lara erişmek için self kelimesini kullanıyoruz. \n",
        "\n",
        "\"\"\""
      ],
      "execution_count": null,
      "outputs": []
    },
    {
      "cell_type": "code",
      "metadata": {
        "id": "YjSEGRYrfQ69",
        "colab_type": "code",
        "colab": {}
      },
      "source": [
        "class Person():\n",
        "  def __init__(self, personName, personAge):\n",
        "    self.name = personName\n",
        "    self.age = personAge\n",
        "\n",
        "\n",
        "  def welcomePerson(self):\n",
        "    print(\"Merhaba \" + self.name)\n",
        "\n",
        "  \n",
        "  def showAge(self):\n",
        "    print(self.age)\n"
      ],
      "execution_count": 58,
      "outputs": []
    },
    {
      "cell_type": "code",
      "metadata": {
        "id": "K-t2aNYYWPNI",
        "colab_type": "code",
        "colab": {
          "base_uri": "https://localhost:8080/",
          "height": 54
        },
        "outputId": "6531b774-12ef-4c6b-bbb7-b1eb58fe9440"
      },
      "source": [
        "fethi=Person(\"Fethi\",24)\n",
        "fethi.welcomePerson()\n",
        "fethi.showAge()"
      ],
      "execution_count": 59,
      "outputs": [
        {
          "output_type": "stream",
          "text": [
            "Merhaba Fethi\n",
            "24\n"
          ],
          "name": "stdout"
        }
      ]
    },
    {
      "cell_type": "code",
      "metadata": {
        "id": "GeZqS15XhmM7",
        "colab_type": "code",
        "colab": {
          "base_uri": "https://localhost:8080/",
          "height": 35
        },
        "outputId": "dc75a6ba-2416-4fc6-9101-0f8690060781"
      },
      "source": [
        "person1 = Person (\"Asli\", 28)\n",
        "\n",
        "person1.welcomePerson()"
      ],
      "execution_count": null,
      "outputs": [
        {
          "output_type": "stream",
          "text": [
            "Merhaba Asli\n"
          ],
          "name": "stdout"
        }
      ]
    },
    {
      "cell_type": "code",
      "metadata": {
        "id": "imIm2qrdjESE",
        "colab_type": "code",
        "colab": {
          "base_uri": "https://localhost:8080/",
          "height": 35
        },
        "outputId": "49a31bd1-ea49-465c-e8f1-7f9895064c70"
      },
      "source": [
        "person1.showAge()"
      ],
      "execution_count": null,
      "outputs": [
        {
          "output_type": "stream",
          "text": [
            "28\n"
          ],
          "name": "stdout"
        }
      ]
    },
    {
      "cell_type": "code",
      "metadata": {
        "id": "78eGaeBfW2-v",
        "colab_type": "code",
        "colab": {
          "base_uri": "https://localhost:8080/",
          "height": 128
        },
        "outputId": "a555f80c-1673-41e8-f595-b542af3ecf46"
      },
      "source": [
        "#ses\n",
        "#ayak\n",
        "#renk\n",
        "class Hayvan():\n",
        "  def __init__(self,ses,ayak,renkler):\n",
        "    self.ses=ses\n",
        "    self.ayak=ayak\n",
        "    self.renkler=renkler\n",
        "  \n",
        "  def Yazdir(self):\n",
        "    print(\"Ses:\",self.ses,\" Ayak:\",self.ayak,\" Renkler:\",self.renkler)\n",
        "  \n",
        "  def RenkEkle(self,renkler):\n",
        "    self.renkler.extend(renkler)\n",
        "    self.renkler=list(set(self.renkler))\n",
        "    print(type(self.renkler))\n",
        "\n",
        "kedi=Hayvan(\"Miyav\",4,[\"Siyah\",\"Beyaz\",\"Gri\"])\n",
        "kedi.Yazdir()\n",
        "kedi.RenkEkle([\"Turuncu\",\"Siyah\",\"Mavi\"])\n",
        "kedi.Yazdir()\n",
        "kedi.RenkEkle([\"Sarı\"])\n",
        "kedi.Yazdir()\n",
        "\"\"\"\n",
        "hataliKedi=Hayvan(\"Havhav\",7,(\"Siyah\",\"Beyaz\"))\n",
        "hataliKedi.RenkEkle((\"Mavi\",\"Yeşil\"))\n",
        "\"\"\""
      ],
      "execution_count": 72,
      "outputs": [
        {
          "output_type": "stream",
          "text": [
            "Ses: Miyav  Ayak: 4  Renkler: ['Siyah', 'Beyaz', 'Gri']\n",
            "<class 'list'>\n",
            "Ses: Miyav  Ayak: 4  Renkler: ['Beyaz', 'Siyah', 'Mavi', 'Turuncu', 'Gri']\n",
            "<class 'list'>\n",
            "Ses: Miyav  Ayak: 4  Renkler: ['Beyaz', 'Siyah', 'Mavi', 'Sarı', 'Turuncu', 'Gri']\n"
          ],
          "name": "stdout"
        },
        {
          "output_type": "execute_result",
          "data": {
            "application/vnd.google.colaboratory.intrinsic+json": {
              "type": "string"
            },
            "text/plain": [
              "'\\nhataliKedi=Hayvan(\"Havhav\",7,(\"Siyah\",\"Beyaz\"))\\nhataliKedi.RenkEkle((\"Mavi\",\"Yeşil\"))\\n'"
            ]
          },
          "metadata": {
            "tags": []
          },
          "execution_count": 72
        }
      ]
    },
    {
      "cell_type": "code",
      "metadata": {
        "id": "iJLLyQ4NaP5o",
        "colab_type": "code",
        "colab": {}
      },
      "source": [
        "class Hayvan2():\n",
        "  isim = input(\"İsmini giriniz \")\n",
        "  ses= input(\"nasıl ses çıkardığını giriniz \")\n",
        "  ayak_sayısı = int(input(\"Ayak sayısını giriniz \"))\n"
      ],
      "execution_count": null,
      "outputs": []
    },
    {
      "cell_type": "code",
      "metadata": {
        "id": "kQfG-ej-aScE",
        "colab_type": "code",
        "colab": {
          "base_uri": "https://localhost:8080/",
          "height": 110
        },
        "outputId": "602aac5e-4a74-408b-9b81-affe6ccdb32b"
      },
      "source": [
        "kullanıcıSes=input(\"ses gir:\")\n",
        "ayak=int(input(\"ayak sayısı gir:\"))\n",
        "renkler=input(\"renkleri gir aralarında boşluk olsun:\")\n",
        "print(renkler.split())\n",
        "yeniHayvan=Hayvan(kullanıcıSes,ayak,renkler.split())\n",
        "yeniHayvan.Yazdir()"
      ],
      "execution_count": 75,
      "outputs": [
        {
          "output_type": "stream",
          "text": [
            "ses gir:Havhav\n",
            "ayak sayısı gir:4\n",
            "renkleri gir aralarında boşluk olsun:Beyaz Siyah Gri\n",
            "['Beyaz', 'Siyah', 'Gri']\n",
            "Ses: Havhav  Ayak: 4  Renkler: ['Beyaz', 'Siyah', 'Gri']\n"
          ],
          "name": "stdout"
        }
      ]
    },
    {
      "cell_type": "code",
      "metadata": {
        "id": "bGR0XBxLjcGo",
        "colab_type": "code",
        "colab": {}
      },
      "source": [
        "class Person3():\n",
        "\n",
        "\n",
        "  def __init__(self, name, age):\n",
        "    self.name = name\n",
        "    self.age = age\n",
        "    self.language = []\n",
        " \n",
        "\n",
        "\n",
        "  def welcomePerson(self):\n",
        "    print(\"Merhaba \" + self.name)\n",
        "\n",
        "  \n",
        "  def showAge(self):\n",
        "    print(self.age)\n",
        "\n",
        "\n",
        "  def addLang (self, new_lang):\n",
        "    print(\"Yeni dil ekleniyor..\")\n",
        "    self.language.append(new_lang)\n",
        "\n",
        "  \n",
        "  def showInfo(self):\n",
        "    print(\"{} adlı kişinin yaşı {} ve bildiği diller: \".format(self.name,self.age))\n",
        "    for i in self.language:\n",
        "      print(i)\n",
        "        \n",
        "        \n",
        "\n",
        "        \n",
        "        "
      ],
      "execution_count": null,
      "outputs": []
    },
    {
      "cell_type": "code",
      "metadata": {
        "id": "zkmDy4tSpeSO",
        "colab_type": "code",
        "colab": {}
      },
      "source": [
        "person3 = Person3(\"asli\",28)"
      ],
      "execution_count": null,
      "outputs": []
    },
    {
      "cell_type": "code",
      "metadata": {
        "id": "iGvesZvPpqBw",
        "colab_type": "code",
        "colab": {
          "base_uri": "https://localhost:8080/",
          "height": 35
        },
        "outputId": "7803ae39-1136-4949-d2f6-fbbae5707388"
      },
      "source": [
        "person3.welcomePerson()"
      ],
      "execution_count": null,
      "outputs": [
        {
          "output_type": "stream",
          "text": [
            "Merhaba asli\n"
          ],
          "name": "stdout"
        }
      ]
    },
    {
      "cell_type": "code",
      "metadata": {
        "id": "ZwaRNvXVptKE",
        "colab_type": "code",
        "colab": {
          "base_uri": "https://localhost:8080/",
          "height": 35
        },
        "outputId": "71da4988-8ecb-4a1e-ceff-49d607519c28"
      },
      "source": [
        "person3.showAge()"
      ],
      "execution_count": null,
      "outputs": [
        {
          "output_type": "stream",
          "text": [
            "28\n"
          ],
          "name": "stdout"
        }
      ]
    },
    {
      "cell_type": "code",
      "metadata": {
        "id": "RssjOznYpvfv",
        "colab_type": "code",
        "colab": {
          "base_uri": "https://localhost:8080/",
          "height": 35
        },
        "outputId": "50cbd0f8-46a3-40a7-b3b4-0aafe79539db"
      },
      "source": [
        "person3.addLang(\"german\")"
      ],
      "execution_count": null,
      "outputs": [
        {
          "output_type": "stream",
          "text": [
            "Yeni dil ekleniyor..\n"
          ],
          "name": "stdout"
        }
      ]
    },
    {
      "cell_type": "code",
      "metadata": {
        "id": "axnwe5fbqOWx",
        "colab_type": "code",
        "colab": {
          "base_uri": "https://localhost:8080/",
          "height": 52
        },
        "outputId": "1febc09c-2873-4319-baee-0038f6e81775"
      },
      "source": [
        "person3.showInfo()"
      ],
      "execution_count": null,
      "outputs": [
        {
          "output_type": "stream",
          "text": [
            "asli adlı kişinin yaşı 28 ve bildiği diller: \n",
            "german\n"
          ],
          "name": "stdout"
        }
      ]
    },
    {
      "cell_type": "code",
      "metadata": {
        "id": "j4LQVwVDtbqL",
        "colab_type": "code",
        "colab": {
          "base_uri": "https://localhost:8080/",
          "height": 35
        },
        "outputId": "c61bbd79-3870-45fd-cb3e-e9bc6862444b"
      },
      "source": [
        "person3.addLang(\"english\")"
      ],
      "execution_count": null,
      "outputs": [
        {
          "output_type": "stream",
          "text": [
            "Yeni dil ekleniyor..\n"
          ],
          "name": "stdout"
        }
      ]
    },
    {
      "cell_type": "code",
      "metadata": {
        "id": "rjhVBnGotg5T",
        "colab_type": "code",
        "colab": {
          "base_uri": "https://localhost:8080/",
          "height": 70
        },
        "outputId": "53c673db-f48f-4e15-8101-f54182c5d748"
      },
      "source": [
        "person3.showInfo()"
      ],
      "execution_count": null,
      "outputs": [
        {
          "output_type": "stream",
          "text": [
            "asli adlı kişinin yaşı 28 ve bildiği diller: \n",
            "german\n",
            "english\n"
          ],
          "name": "stdout"
        }
      ]
    }
  ]
}